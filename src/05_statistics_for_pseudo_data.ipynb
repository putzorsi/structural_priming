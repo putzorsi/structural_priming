{
 "cells": [
  {
   "cell_type": "code",
   "id": "initial_id",
   "metadata": {
    "collapsed": true,
    "ExecuteTime": {
     "end_time": "2025-05-15T06:31:43.729937Z",
     "start_time": "2025-05-15T06:31:42.610434Z"
    }
   },
   "source": [
    "import pandas as pd\n",
    "from scipy.stats import pearsonr, spearmanr"
   ],
   "outputs": [],
   "execution_count": 1
  },
  {
   "metadata": {},
   "cell_type": "markdown",
   "source": "## Compare the correlations of the real and pseudo pairs",
   "id": "ff5339a4df41167d"
  },
  {
   "metadata": {
    "ExecuteTime": {
     "end_time": "2025-05-15T06:46:58.796180Z",
     "start_time": "2025-05-15T06:46:57.721799Z"
    }
   },
   "cell_type": "code",
   "source": [
    "pseudo_whole_corpus = pd.read_csv(\"../results/pseudo_pairs_whole_corpus_linguistic_analysis.csv\")\n",
    "pseudo_baseline_df = pd.read_csv('../results/pseudo_pairs_baseline_linguistic_analysis.csv')\n",
    "pseudo_unimodal_df = pd.read_csv('../results/pseudo_pairs_unimodal_linguistic_analysis.csv')\n",
    "pseudo_unfamiliar_df = pd.read_csv('../results/pseudo_pairs_unfamiliar_linguistic_analysis.csv')\n",
    "pseudo_first_third_df  = pd.read_csv('../results/pseudo_pairs_first_third_linguistic_analysis.csv')\n",
    "pseudo_second_third_df = pd.read_csv('../results/pseudo_pairs_second_third_linguistic_analysis.csv')\n",
    "pseudo_third_third_df  = pd.read_csv('../results/pseudo_pairs_third_third_linguistic_analysis.csv')"
   ],
   "id": "aeaf8360a60ebb1d",
   "outputs": [],
   "execution_count": 4
  },
  {
   "metadata": {
    "ExecuteTime": {
     "end_time": "2025-05-15T06:47:01.806008Z",
     "start_time": "2025-05-15T06:47:01.788126Z"
    }
   },
   "cell_type": "code",
   "source": [
    "whole_corpus_correlation = pd.read_csv(\"../results/correlations_whole_corpus.csv\")\n",
    "baseline_correlation = pd.read_csv(\"../results/correlations_baseline.csv\") #40db\n",
    "unimodal_correlation = pd.read_csv(\"../results/correlations_unimodal.csv\") #41db\n",
    "unfamiliar_correlation = pd.read_csv(\"../results/correlations_unfamiliar.csv\") #43db"
   ],
   "id": "5ab9904451d2426c",
   "outputs": [],
   "execution_count": 5
  },
  {
   "metadata": {
    "ExecuteTime": {
     "end_time": "2025-05-14T12:36:34.522601Z",
     "start_time": "2025-05-14T12:36:34.513969Z"
    }
   },
   "cell_type": "code",
   "source": [
    "first_third_correlation = pd.read_csv(\"../results/correlations_first_third.csv\")\n",
    "second_third_correlation = pd.read_csv(\"../results/correlations_second_third.csv\")\n",
    "third_third_correlation = pd.read_csv(\"../results/correlations_third_third.csv\")"
   ],
   "id": "d1e936647a0eafab",
   "outputs": [],
   "execution_count": 38
  },
  {
   "metadata": {},
   "cell_type": "markdown",
   "source": "## Get random samples from pseudo data",
   "id": "6dfe80dc2df08fa8"
  },
  {
   "metadata": {
    "ExecuteTime": {
     "end_time": "2025-05-15T06:47:07.436885Z",
     "start_time": "2025-05-15T06:47:07.431370Z"
    }
   },
   "cell_type": "code",
   "source": [
    "def random_sampling(df, num_lines):\n",
    "    # Create empty list to store all samples\n",
    "    samples_list = []\n",
    "    columns = df.columns.tolist()\n",
    "\n",
    "    # Perform random sampling 1000 times\n",
    "    for _ in range(1000):\n",
    "        # Randomly select x lines from the dataframe\n",
    "        sample = df.sample(n=num_lines)[columns]\n",
    "        samples_list.append(sample)\n",
    "\n",
    "    return samples_list\n"
   ],
   "id": "c395fa8b46775871",
   "outputs": [],
   "execution_count": 6
  },
  {
   "metadata": {
    "ExecuteTime": {
     "end_time": "2025-05-15T06:47:17.245632Z",
     "start_time": "2025-05-15T06:47:16.343410Z"
    }
   },
   "cell_type": "code",
   "source": [
    "pseudo_whole_corpus_sampled_dfs = random_sampling(pseudo_whole_corpus, 124)\n",
    "pseudo_baseline_sampled_dfs = random_sampling(pseudo_baseline_df, 40)\n",
    "pseudo_unimodal_sampled_dfs = random_sampling(pseudo_unimodal_df, 41)\n",
    "pseudo_unfamiliar_sampled_dfs = random_sampling(pseudo_unfamiliar_df, 43)\n",
    "pseudo_first_third_sampled_dfs = random_sampling(pseudo_first_third_df, 124)\n",
    "pseudo_second_third_sampled_dfs = random_sampling(pseudo_second_third_df, 124)\n",
    "pseudo_third_third_sampled_dfs = random_sampling(pseudo_third_third_df, 124)"
   ],
   "id": "1a7ffcde057faa9e",
   "outputs": [],
   "execution_count": 7
  },
  {
   "metadata": {},
   "cell_type": "markdown",
   "source": "## Calculate correlation of pseudo data",
   "id": "6252cb730a5505dd"
  },
  {
   "metadata": {},
   "cell_type": "code",
   "source": [
    "def Correlations(df_list):\n",
    "    columns = [\n",
    "        \"lexical_diversity\", \"speech_ratio\", \"word_avg\", \"hes\", \"laugh\", \"question\", \"hum\",\n",
    "        \"s_first_person\", \"s_second_person\", \"s_third_person\", \"p_first_person\", \"p_second_person\",\n",
    "        \"p_third_person\", \"present\", \"past\", \"future\", \"cond\", \"verb\", \"noun\", \"adj\", \"adv\", \"num\",\n",
    "        \"article\", \"preverb\", \"postverb\", \"pronoun\", \"conjunction\", \"interjection\", \"det\", \"funct_words\",\n",
    "        \"negation\", \"happiness\", \"sadness\", \"anger\", \"fear\", \"disgust\", \"no_emotion\", \"positive\",\n",
    "        \"negative\", \"neutral\"\n",
    "    ]\n",
    "    correlation_dfs = []\n",
    "\n",
    "    for df in df_list:\n",
    "        results = []\n",
    "        for col in columns:\n",
    "            corr_pearson, p_value_pearson = pearsonr(df[f\"{col}_mordor\"], df[f\"{col}_gondor\"])\n",
    "            corr_spearman, p_value_spearman = spearmanr(df[f\"{col}_mordor\"], df[f\"{col}_gondor\"])\n",
    "            results.append({\n",
    "                \"Feature\": f\"{col}\",\n",
    "                \"Correlation_pearson\": round(corr_pearson, 2),\n",
    "                \"P-Value\": round(p_value_pearson, 2),\n",
    "                \"P-Value < 0.005\": p_value_pearson < 0.005\n",
    "            })\n",
    "        correlation_dfs.append(pd.DataFrame(results))\n",
    "\n",
    "    return correlation_dfs"
   ],
   "id": "438fff574327909d",
   "outputs": [],
   "execution_count": null
  },
  {
   "metadata": {},
   "cell_type": "code",
   "source": "whole_pseudo_corpus_correlation_dfs = Correlations(pseudo_whole_corpus_sampled_dfs)",
   "id": "7afa7cb486eba5e4",
   "outputs": [],
   "execution_count": null
  },
  {
   "metadata": {},
   "cell_type": "code",
   "source": "baseline_pseudo_correlation_dfs = Correlations(pseudo_baseline_sampled_dfs)",
   "id": "78c329be82dbdea1",
   "outputs": [],
   "execution_count": null
  },
  {
   "metadata": {},
   "cell_type": "code",
   "source": "unimodal_pseudo_correlation_dfs = Correlations(pseudo_unimodal_sampled_dfs)",
   "id": "ee3500002f429bd7",
   "outputs": [],
   "execution_count": null
  },
  {
   "metadata": {},
   "cell_type": "code",
   "source": "unfamiliar_pseudo_correlation_dfs = Correlations(pseudo_unfamiliar_sampled_dfs)",
   "id": "69b6a9cfd9058dce",
   "outputs": [],
   "execution_count": null
  },
  {
   "metadata": {},
   "cell_type": "code",
   "source": "first_third_pseudo_correlation_dfs = Correlations(pseudo_first_third_sampled_dfs)",
   "id": "a9af81a46eefeb83",
   "outputs": [],
   "execution_count": null
  },
  {
   "metadata": {},
   "cell_type": "code",
   "source": "second_third_pseudo_correlation_dfs = Correlations(pseudo_second_third_sampled_dfs)",
   "id": "209e3dc3edefea5a",
   "outputs": [],
   "execution_count": null
  },
  {
   "metadata": {},
   "cell_type": "code",
   "source": "third_third_pseudo_correlation_dfs = Correlations(pseudo_third_third_sampled_dfs)",
   "id": "e942195b4913a6b7",
   "outputs": [],
   "execution_count": null
  },
  {
   "metadata": {},
   "cell_type": "markdown",
   "source": "## Calculate the mean of the correlations",
   "id": "48ff3567b3ff7b9e"
  },
  {
   "metadata": {},
   "cell_type": "code",
   "source": [
    "def calculate_mean_correlation(correlation_dfs):\n",
    "    feature_dict = {}\n",
    "    \n",
    "    for df in correlation_dfs:\n",
    "        for _, row in df.iterrows():\n",
    "            feature = row['Feature']\n",
    "            corr = abs(row['Correlation_pearson'])\n",
    "            \n",
    "            if feature not in feature_dict:\n",
    "                feature_dict[feature] = []\n",
    "            feature_dict[feature].append(corr)\n",
    "    \n",
    "    results = {\n",
    "        'Feature': [],\n",
    "        'Mean': []\n",
    "    }\n",
    "    for feature, values in feature_dict.items():\n",
    "        results['Feature'].append(feature)\n",
    "        results['Mean'].append(round(sum(values) / len(values),2))\n",
    "    \n",
    "    return pd.DataFrame(results)"
   ],
   "id": "a206e36767cbc8fb",
   "outputs": [],
   "execution_count": null
  },
  {
   "metadata": {},
   "cell_type": "code",
   "source": [
    "whole_pseudo_corpus_correlation_means = calculate_mean_correlation(whole_pseudo_corpus_correlation_dfs)\n",
    "pseudo_baseline_correlation_means = calculate_mean_correlation(baseline_pseudo_correlation_dfs)\n",
    "pseudo_unimodal_correlation_means = calculate_mean_correlation(unimodal_pseudo_correlation_dfs)\n",
    "pseudo_unfamiliar_correlation_means = calculate_mean_correlation(unfamiliar_pseudo_correlation_dfs)\n",
    "pseudo_first_third_correlation_means = calculate_mean_correlation(first_third_pseudo_correlation_dfs)\n",
    "pseudo_second_third_correlation_means = calculate_mean_correlation(second_third_pseudo_correlation_dfs)\n",
    "pseudo_third_third_correlation_means = calculate_mean_correlation(third_third_pseudo_correlation_dfs)"
   ],
   "id": "6bb90f6ba4d4c04b",
   "outputs": [],
   "execution_count": null
  },
  {
   "metadata": {},
   "cell_type": "code",
   "source": [
    "whole_pseudo_corpus_correlation_means.to_csv(\"../results/whole_pseudo_corpus_correlation_means.csv\", index=False)\n",
    "pseudo_baseline_correlation_means.to_csv(\"../results/baseline_pseudo_correlation_means.csv\", index=False)\n",
    "pseudo_unimodal_correlation_means.to_csv(\"../results/unimodal_pseudo_correlation_means.csv\", index=False)\n",
    "pseudo_unfamiliar_correlation_means.to_csv(\"../results/unfamiliar_pseudo_correlation_means.csv\", index=False)\n",
    "pseudo_first_third_correlation_means.to_csv(\"../results/first_third_pseudo_correlation_means.csv\", index=False)\n",
    "pseudo_second_third_correlation_means.to_csv(\"../results/second_third_pseudo_correlation_means.csv\", index=False)\n",
    "pseudo_third_third_correlation_means.to_csv(\"../results/third_third_pseudo_correlation_means.csv\", index=False)"
   ],
   "id": "e1218d638f9589d3",
   "outputs": [],
   "execution_count": null
  },
  {
   "metadata": {},
   "cell_type": "markdown",
   "source": "## Compare the correlation values of the real and of the pseudo data",
   "id": "b1339a07de91a1b5"
  },
  {
   "metadata": {},
   "cell_type": "code",
   "source": [
    "def compare_correlations(original_df, pseudo_dfs_list):\n",
    "    results = {\n",
    "        'Feature': original_df['Feature'].tolist(),\n",
    "        'Pseudo_higher_than_original': [0] * len(original_df)\n",
    "    }\n",
    "    \n",
    "    for idx, orig_row in original_df.iterrows():\n",
    "        orig_corr = orig_row['Correlation_pearson']\n",
    "        \n",
    "        for pseudo_df in pseudo_dfs_list:\n",
    "            # Get correlation value from pseudo df at same feature\n",
    "            pseudo_corr = pseudo_df.loc[pseudo_df['Feature'] == orig_row['Feature'], 'Correlation_pearson'].iloc[0]\n",
    "            \n",
    "            # Increment counter if pseudo correlation is higher\n",
    "            if abs(pseudo_corr) >= abs(orig_corr):\n",
    "                results['Pseudo_higher_than_original'][idx] += 1\n",
    "    \n",
    "    return pd.DataFrame(results)\n"
   ],
   "id": "c1073eda9581b32b",
   "outputs": [],
   "execution_count": null
  },
  {
   "metadata": {
    "ExecuteTime": {
     "end_time": "2025-05-14T11:32:25.537851Z",
     "start_time": "2025-05-14T11:32:16.983507Z"
    }
   },
   "cell_type": "code",
   "source": [
    "comparison_whole_corpus = compare_correlations(whole_corpus_correlation, whole_pseudo_corpus_correlation_dfs)\n",
    "# select those features that are lower than 50\n",
    "comparison_whole_corpus = comparison_whole_corpus[comparison_whole_corpus['Pseudo_higher_than_original'] < 50]"
   ],
   "id": "7e4bf4c9d8810a9a",
   "outputs": [
    {
     "data": {
      "text/plain": [
       "           Feature  Pseudo_higher_than_original\n",
       "1     speech_ratio                            0\n",
       "2         word_avg                            0\n",
       "3              hes                            0\n",
       "4            laugh                            0\n",
       "7   s_first_person                            0\n",
       "9   s_third_person                            0\n",
       "10  p_first_person                            0\n",
       "12  p_third_person                            0\n",
       "13         present                            0\n",
       "14            past                            0\n",
       "15          future                            1\n",
       "16            cond                            0\n",
       "19             adj                            0\n",
       "20             adv                           38\n",
       "21             num                            0\n",
       "22         article                           16\n",
       "24        postverb                           27\n",
       "25         pronoun                           47\n",
       "28             det                            1\n",
       "31       happiness                            0\n",
       "34            fear                            0\n",
       "35         disgust                           47\n",
       "37        positive                            0\n",
       "38        negative                           17\n",
       "39         neutral                           14"
      ],
      "text/html": [
       "<div>\n",
       "<style scoped>\n",
       "    .dataframe tbody tr th:only-of-type {\n",
       "        vertical-align: middle;\n",
       "    }\n",
       "\n",
       "    .dataframe tbody tr th {\n",
       "        vertical-align: top;\n",
       "    }\n",
       "\n",
       "    .dataframe thead th {\n",
       "        text-align: right;\n",
       "    }\n",
       "</style>\n",
       "<table border=\"1\" class=\"dataframe\">\n",
       "  <thead>\n",
       "    <tr style=\"text-align: right;\">\n",
       "      <th></th>\n",
       "      <th>Feature</th>\n",
       "      <th>Pseudo_higher_than_original</th>\n",
       "    </tr>\n",
       "  </thead>\n",
       "  <tbody>\n",
       "    <tr>\n",
       "      <th>1</th>\n",
       "      <td>speech_ratio</td>\n",
       "      <td>0</td>\n",
       "    </tr>\n",
       "    <tr>\n",
       "      <th>2</th>\n",
       "      <td>word_avg</td>\n",
       "      <td>0</td>\n",
       "    </tr>\n",
       "    <tr>\n",
       "      <th>3</th>\n",
       "      <td>hes</td>\n",
       "      <td>0</td>\n",
       "    </tr>\n",
       "    <tr>\n",
       "      <th>4</th>\n",
       "      <td>laugh</td>\n",
       "      <td>0</td>\n",
       "    </tr>\n",
       "    <tr>\n",
       "      <th>7</th>\n",
       "      <td>s_first_person</td>\n",
       "      <td>0</td>\n",
       "    </tr>\n",
       "    <tr>\n",
       "      <th>9</th>\n",
       "      <td>s_third_person</td>\n",
       "      <td>0</td>\n",
       "    </tr>\n",
       "    <tr>\n",
       "      <th>10</th>\n",
       "      <td>p_first_person</td>\n",
       "      <td>0</td>\n",
       "    </tr>\n",
       "    <tr>\n",
       "      <th>12</th>\n",
       "      <td>p_third_person</td>\n",
       "      <td>0</td>\n",
       "    </tr>\n",
       "    <tr>\n",
       "      <th>13</th>\n",
       "      <td>present</td>\n",
       "      <td>0</td>\n",
       "    </tr>\n",
       "    <tr>\n",
       "      <th>14</th>\n",
       "      <td>past</td>\n",
       "      <td>0</td>\n",
       "    </tr>\n",
       "    <tr>\n",
       "      <th>15</th>\n",
       "      <td>future</td>\n",
       "      <td>1</td>\n",
       "    </tr>\n",
       "    <tr>\n",
       "      <th>16</th>\n",
       "      <td>cond</td>\n",
       "      <td>0</td>\n",
       "    </tr>\n",
       "    <tr>\n",
       "      <th>19</th>\n",
       "      <td>adj</td>\n",
       "      <td>0</td>\n",
       "    </tr>\n",
       "    <tr>\n",
       "      <th>20</th>\n",
       "      <td>adv</td>\n",
       "      <td>38</td>\n",
       "    </tr>\n",
       "    <tr>\n",
       "      <th>21</th>\n",
       "      <td>num</td>\n",
       "      <td>0</td>\n",
       "    </tr>\n",
       "    <tr>\n",
       "      <th>22</th>\n",
       "      <td>article</td>\n",
       "      <td>16</td>\n",
       "    </tr>\n",
       "    <tr>\n",
       "      <th>24</th>\n",
       "      <td>postverb</td>\n",
       "      <td>27</td>\n",
       "    </tr>\n",
       "    <tr>\n",
       "      <th>25</th>\n",
       "      <td>pronoun</td>\n",
       "      <td>47</td>\n",
       "    </tr>\n",
       "    <tr>\n",
       "      <th>28</th>\n",
       "      <td>det</td>\n",
       "      <td>1</td>\n",
       "    </tr>\n",
       "    <tr>\n",
       "      <th>31</th>\n",
       "      <td>happiness</td>\n",
       "      <td>0</td>\n",
       "    </tr>\n",
       "    <tr>\n",
       "      <th>34</th>\n",
       "      <td>fear</td>\n",
       "      <td>0</td>\n",
       "    </tr>\n",
       "    <tr>\n",
       "      <th>35</th>\n",
       "      <td>disgust</td>\n",
       "      <td>47</td>\n",
       "    </tr>\n",
       "    <tr>\n",
       "      <th>37</th>\n",
       "      <td>positive</td>\n",
       "      <td>0</td>\n",
       "    </tr>\n",
       "    <tr>\n",
       "      <th>38</th>\n",
       "      <td>negative</td>\n",
       "      <td>17</td>\n",
       "    </tr>\n",
       "    <tr>\n",
       "      <th>39</th>\n",
       "      <td>neutral</td>\n",
       "      <td>14</td>\n",
       "    </tr>\n",
       "  </tbody>\n",
       "</table>\n",
       "</div>"
      ]
     },
     "execution_count": 45,
     "metadata": {},
     "output_type": "execute_result"
    }
   ],
   "execution_count": 45
  },
  {
   "metadata": {},
   "cell_type": "code",
   "source": [
    "comparison_baseline_corpus = compare_correlations(baseline_correlation, baseline_pseudo_correlation_dfs)\n",
    "comparison_baseline_corpus = comparison_baseline_corpus[comparison_baseline_corpus['Pseudo_higher_than_original'] < 50]\n",
    "comparison_baseline_corpus"
   ],
   "id": "ef81088bb196425c",
   "outputs": [],
   "execution_count": null
  },
  {
   "metadata": {},
   "cell_type": "code",
   "source": [
    "comparison_unimodal_corpus = compare_correlations(unimodal_correlation, unimodal_pseudo_correlation_dfs)\n",
    "comparison_unimodal_corpus = comparison_unimodal_corpus[comparison_unimodal_corpus['Pseudo_higher_than_original'] < 50]\n",
    "comparison_unimodal_corpus"
   ],
   "id": "dc2d4e71f6977068",
   "outputs": [],
   "execution_count": null
  },
  {
   "metadata": {},
   "cell_type": "code",
   "source": [
    "comparison_unfamiliar_corpus = compare_correlations(unfamiliar_correlation, unfamiliar_pseudo_correlation_dfs)\n",
    "comparison_unfamiliar_corpus = comparison_unfamiliar_corpus[comparison_unfamiliar_corpus['Pseudo_higher_than_original'] < 50]"
   ],
   "id": "51862e741f197364",
   "outputs": [],
   "execution_count": null
  },
  {
   "metadata": {},
   "cell_type": "code",
   "source": [
    "comparison_first_third_corpus = compare_correlations(first_third_correlation, first_third_pseudo_correlation_dfs)\n",
    "comparison_unfamiliar_corpus\n",
    "comparison_first_third_corpus = comparison_first_third_corpus[comparison_first_third_corpus['Pseudo_higher_than_original'] < 50]"
   ],
   "id": "bfb0fba6bacb4b8c",
   "outputs": [],
   "execution_count": null
  },
  {
   "metadata": {},
   "cell_type": "code",
   "source": [
    "comparison_second_third_corpus = compare_correlations(second_third_correlation, second_third_pseudo_correlation_dfs)\n",
    "comparison_first_third_corpus\n",
    "comparison_second_third_corpus = comparison_second_third_corpus[comparison_second_third_corpus['Pseudo_higher_than_original'] < 50]"
   ],
   "id": "821a0538c364396c",
   "outputs": [],
   "execution_count": null
  },
  {
   "metadata": {},
   "cell_type": "code",
   "source": [
    "comparison_third_third_corpus = compare_correlations(third_third_correlation, third_third_pseudo_correlation_dfs)\n",
    "comparison_second_third_corpus\n",
    "comparison_third_third_corpus = comparison_third_third_corpus[comparison_third_third_corpus['Pseudo_higher_than_original'] < 50]"
   ],
   "id": "56e510a7b42e594f",
   "outputs": [],
   "execution_count": null
  },
  {
   "metadata": {
    "ExecuteTime": {
     "end_time": "2025-05-14T11:40:02.161476Z",
     "start_time": "2025-05-14T11:40:02.153918Z"
    }
   },
   "cell_type": "code",
   "source": [
    "whole_corpus_compare = comparison_whole_corpus.merge(whole_corpus_correlation[['Feature', 'Correlation_pearson']], on='Feature')\n",
    "whole_corpus_compare.rename(columns={'Correlation_pearson': 'Original_Correlation_pearson'}, inplace=True)\n",
    "whole_corpus_compare = whole_corpus_compare.merge(whole_pseudo_corpus_correlation_means[['Feature', 'Mean']], on='Feature')"
   ],
   "id": "a29858048dd86dbc",
   "outputs": [],
   "execution_count": 49
  },
  {
   "metadata": {
    "ExecuteTime": {
     "end_time": "2025-05-14T11:40:48.733399Z",
     "start_time": "2025-05-14T11:40:48.726509Z"
    }
   },
   "cell_type": "code",
   "source": [
    "baseline_compare = comparison_baseline_corpus.merge(baseline_correlation[['Feature', 'Correlation_pearson']], on='Feature')\n",
    "baseline_compare.rename(columns={'Correlation_pearson': 'Original_Correlation_pearson'}, inplace=True)\n",
    "baseline_compare = baseline_compare.merge(pseudo_baseline_correlation_means[['Feature', 'Mean']], on='Feature')"
   ],
   "id": "a00476d9c1fb5e37",
   "outputs": [],
   "execution_count": 50
  },
  {
   "metadata": {
    "ExecuteTime": {
     "end_time": "2025-05-14T11:41:39.060012Z",
     "start_time": "2025-05-14T11:41:39.053209Z"
    }
   },
   "cell_type": "code",
   "source": [
    "unimodal_compare = comparison_unimodal_corpus.merge(unimodal_correlation[['Feature', 'Correlation_pearson']], on='Feature')\n",
    "unimodal_compare.rename(columns={'Correlation_pearson': 'Original_Correlation_pearson'}, inplace=True)\n",
    "unimodal_compare = unimodal_compare.merge(pseudo_unimodal_correlation_means[['Feature', 'Mean']], on='Feature')"
   ],
   "id": "677861f055136d28",
   "outputs": [],
   "execution_count": 51
  },
  {
   "metadata": {
    "ExecuteTime": {
     "end_time": "2025-05-14T11:42:21.781666Z",
     "start_time": "2025-05-14T11:42:21.770872Z"
    }
   },
   "cell_type": "code",
   "source": [
    "unfamiliar_compare = comparison_unfamiliar_corpus.merge(unfamiliar_correlation[['Feature', 'Correlation_pearson']], on='Feature')\n",
    "unfamiliar_compare.rename(columns={'Correlation_pearson': 'Original_Correlation_pearson'}, inplace=True)\n",
    "unfamiliar_compare = unfamiliar_compare.merge(pseudo_unfamiliar_correlation_means[['Feature', 'Mean']], on='Feature')"
   ],
   "id": "41f24704c59b2126",
   "outputs": [],
   "execution_count": 52
  },
  {
   "metadata": {
    "ExecuteTime": {
     "end_time": "2025-05-14T11:42:46.163023Z",
     "start_time": "2025-05-14T11:42:46.155843Z"
    }
   },
   "cell_type": "code",
   "source": [
    "first_third_compare = comparison_first_third_corpus.merge(first_third_correlation[['Feature', 'Correlation_pearson']], on='Feature')\n",
    "first_third_compare.rename(columns={'Correlation_pearson': 'Original_Correlation_pearson'}, inplace=True)\n",
    "first_third_compare = first_third_compare.merge(pseudo_first_third_correlation_means[['Feature', 'Mean']], on='Feature')"
   ],
   "id": "c5efe51bee873426",
   "outputs": [],
   "execution_count": 53
  },
  {
   "metadata": {
    "ExecuteTime": {
     "end_time": "2025-05-14T11:42:56.989791Z",
     "start_time": "2025-05-14T11:42:56.982927Z"
    }
   },
   "cell_type": "code",
   "source": [
    "second_third_compare = comparison_second_third_corpus.merge(second_third_correlation[['Feature', 'Correlation_pearson']], on='Feature')\n",
    "second_third_compare.rename(columns={'Correlation_pearson': 'Original_Correlation_pearson'}, inplace=True)\n",
    "second_third_compare = second_third_compare.merge(pseudo_second_third_correlation_means[['Feature', 'Mean']], on='Feature')"
   ],
   "id": "db3681fd95ee0504",
   "outputs": [],
   "execution_count": 54
  },
  {
   "metadata": {
    "ExecuteTime": {
     "end_time": "2025-05-14T11:43:40.724536Z",
     "start_time": "2025-05-14T11:43:40.712544Z"
    }
   },
   "cell_type": "code",
   "source": [
    "third_third_compare = comparison_third_third_corpus.merge(third_third_correlation[['Feature', 'Correlation_pearson']], on='Feature')\n",
    "third_third_compare.rename(columns={'Correlation_pearson': 'Original_Correlation_pearson'}, inplace=True)\n",
    "third_third_compare = third_third_compare.merge(pseudo_third_third_correlation_means[['Feature', 'Mean']], on='Feature')"
   ],
   "id": "b1c7afbee55ba18d",
   "outputs": [],
   "execution_count": 56
  },
  {
   "metadata": {
    "ExecuteTime": {
     "end_time": "2025-05-14T11:43:42.583926Z",
     "start_time": "2025-05-14T11:43:42.574873Z"
    }
   },
   "cell_type": "code",
   "source": [
    "whole_corpus_compare.to_csv(\"../results/whole_corpus_compare.csv\", index=False)\n",
    "baseline_compare.to_csv(\"../results/baseline_compare.csv\", index=False)\n",
    "unimodal_compare.to_csv(\"../results/unimodal_compare.csv\", index=False)\n",
    "unfamiliar_compare.to_csv(\"../results/unfamiliar_compare.csv\", index=False)\n",
    "first_third_compare.to_csv(\"../results/first_third_compare.csv\", index=False)\n",
    "second_third_compare.to_csv(\"../results/second_third_compare.csv\", index=False)\n",
    "third_third_compare.to_csv(\"../results/third_third_compare.csv\", index=False)"
   ],
   "id": "cb31362f86dc109c",
   "outputs": [],
   "execution_count": 57
  },
  {
   "metadata": {},
   "cell_type": "markdown",
   "source": "## Compare the significant p-values of the real dataframes\n",
   "id": "3ede6cd7e12cb5ac"
  },
  {
   "metadata": {},
   "cell_type": "code",
   "source": [
    "correlation_summary = pd.read_csv(\"../results/correlation_summary.csv\")\n",
    "correlation_time = correlation_summary.copy()\n",
    "correlation_time = correlation_time[[\"Feature\", \"Correlation_pearson_first_third\", \"P-Value_first_third\", \"Correlation_pearson_second_third\", \"P-Value_second_third\", \"Correlation_pearson_third_third\", \"P-Value_third_third\"]]\n",
    "correlation_time\n"
   ],
   "id": "8998e5d270864f43",
   "outputs": [],
   "execution_count": null
  },
  {
   "metadata": {},
   "cell_type": "markdown",
   "source": "## Compare correlations whether the differences are significant or not",
   "id": "29a5c026747175d5"
  },
  {
   "metadata": {},
   "cell_type": "code",
   "source": [
    "def compare_correlations_steiger(correlation_time):\n",
    "    comparison_results = []\n",
    "    n = 124  \n",
    "    for _, row in correlation_time.iterrows():\n",
    "        first_second = compare_correlations_steiger_test(\n",
    "            row['Correlation_pearson_first_third'], \n",
    "            row['Correlation_pearson_second_third'],\n",
    "            n\n",
    "        )\n",
    "        second_third = compare_correlations_steiger_test(\n",
    "            row['Correlation_pearson_second_third'],\n",
    "            row['Correlation_pearson_third_third'], \n",
    "            n\n",
    "        )\n",
    "        first_third = compare_correlations_steiger_test(\n",
    "            row['Correlation_pearson_first_third'],\n",
    "            row['Correlation_pearson_third_third'],\n",
    "            n\n",
    "        )\n",
    "        comparison_results.append({\n",
    "            'Feature': row['Feature'],\n",
    "            'First_vs_Second_Significant': first_second,\n",
    "            'Second_vs_Third_Significant': second_third,\n",
    "            'First_vs_Third_Significant': first_third,\n",
    "            'First_Third_Correlation': row['Correlation_pearson_first_third'],\n",
    "            'Second_Third_Correlation': row['Correlation_pearson_second_third'], \n",
    "            'Third_Third_Correlation': row['Correlation_pearson_third_third']\n",
    "        })\n",
    "    \n",
    "    return pd.DataFrame(comparison_results)\n",
    "\n",
    "def compare_correlations_steiger_test(corr1, corr2, n, alpha=0.05):\n",
    "    \"\"\"Helper function to perform Steiger's Z-test\"\"\"\n",
    "    z1 = np.arctanh(corr1)\n",
    "    z2 = np.arctanh(corr2)\n",
    "    se = np.sqrt(1/(n-3))\n",
    "    z = (z1 - z2) / (np.sqrt(2*se**2))\n",
    "    p_value = 2 * (1 - norm.cdf(abs(z)))\n",
    "    return p_value < alpha\n",
    "\n",
    "# Run the comparison\n",
    "significance_df = compare_correlations_steiger(correlation_time)"
   ],
   "id": "efb855a3b07bec9a",
   "outputs": [],
   "execution_count": null
  },
  {
   "metadata": {},
   "cell_type": "code",
   "source": "significance_df.to_csv(\"../results/significance_df.csv\", index=False)",
   "id": "c49f2950c4742a22",
   "outputs": [],
   "execution_count": null
  },
  {
   "metadata": {},
   "cell_type": "markdown",
   "source": "## Compare LSM",
   "id": "d7b122844f6d7070"
  },
  {
   "metadata": {
    "ExecuteTime": {
     "end_time": "2025-05-15T06:47:39.453363Z",
     "start_time": "2025-05-15T06:47:39.446333Z"
    }
   },
   "cell_type": "code",
   "source": [
    "whole_data_lsm = pd.read_csv(\"../results/whole_data_lsm.csv\")\n",
    "baseline_lsm = pd.read_csv(\"../results/baseline_lsm.csv\")\n",
    "unimodal_lsm = pd.read_csv(\"../results/unimodal_lsm.csv\")\n",
    "unfamiliar_lsm = pd.read_csv(\"../results/unfamiliar_lsm.csv\")\n",
    "first_third_lsm = pd.read_csv(\"../results/first_third_lsm.csv\")\n",
    "second_third_lsm = pd.read_csv(\"../results/second_third_lsm.csv\")\n",
    "third_third_lsm = pd.read_csv(\"../results/third_third_lsm.csv\")"
   ],
   "id": "481041d830af8fcb",
   "outputs": [],
   "execution_count": 8
  },
  {
   "metadata": {
    "ExecuteTime": {
     "end_time": "2025-05-15T06:47:49.266972Z",
     "start_time": "2025-05-15T06:47:49.261609Z"
    }
   },
   "cell_type": "code",
   "source": [
    "whole_data_lsm_adapted = pd.read_csv(\"../results/whole_data_lsm_adapted.csv\")\n",
    "baseline_lsm_adapted = pd.read_csv(\"../results/baseline_lsm_adapted.csv\")\n",
    "unimodal_lsm_adapted = pd.read_csv(\"../results/unimodal_lsm_adapted.csv\")\n",
    "unfamiliar_lsm_adapted = pd.read_csv(\"../results/unfamiliar_lsm_adapted.csv\")\n",
    "first_third_lsm_adapted = pd.read_csv(\"../results/first_third_lsm_adapted.csv\")\n",
    "second_third_lsm_adapted = pd.read_csv(\"../results/second_third_lsm_adapted.csv\")\n",
    "third_third_lsm_adapted = pd.read_csv(\"../results/third_third_lsm_adapted.csv\")"
   ],
   "id": "9e11b164c9231f4c",
   "outputs": [],
   "execution_count": 9
  },
  {
   "metadata": {
    "ExecuteTime": {
     "end_time": "2025-05-15T06:55:41.969656Z",
     "start_time": "2025-05-15T06:55:41.963316Z"
    }
   },
   "cell_type": "code",
   "source": [
    "whole_data_lsm_means = round(whole_data_lsm.mean(), 2)\n",
    "baseline_lsm_means = round(baseline_lsm.mean(), 2)\n",
    "unimodal_lsm_means = round(unimodal_lsm.mean(), 2)\n",
    "unfamiliar_lsm_means = round(unfamiliar_lsm.mean(), 2)\n",
    "first_third_lsm_means = round(first_third_lsm.mean(), 2)\n",
    "second_third_lsm_means = round(second_third_lsm.mean(), 2)\n",
    "third_third_lsm_means = round(third_third_lsm.mean(), 2)"
   ],
   "id": "a3aa6497b514bdd3",
   "outputs": [],
   "execution_count": 10
  },
  {
   "metadata": {
    "ExecuteTime": {
     "end_time": "2025-05-15T06:55:47.407260Z",
     "start_time": "2025-05-15T06:55:47.403027Z"
    }
   },
   "cell_type": "code",
   "source": [
    "whole_data_lsm_means_adapted = round(whole_data_lsm_adapted.mean(), 2)\n",
    "baseline_lsm_means_adapted = round(baseline_lsm_adapted.mean(), 2)\n",
    "unimodal_lsm_means_adapted = round(unimodal_lsm_adapted.mean(), 2)\n",
    "unfamiliar_lsm_means_adapted = round(unfamiliar_lsm_adapted.mean(), 2)\n",
    "first_third_lsm_means_adapted = round(first_third_lsm_adapted.mean(), 2)\n",
    "second_third_lsm_means_adapted = round(second_third_lsm_adapted.mean(), 2)\n",
    "third_third_lsm_means_adapted = round(third_third_lsm_adapted.mean(), 2)"
   ],
   "id": "34bd0f3260744f90",
   "outputs": [],
   "execution_count": 11
  },
  {
   "metadata": {
    "ExecuteTime": {
     "end_time": "2025-05-14T13:13:33.567787Z",
     "start_time": "2025-05-14T13:13:33.557781Z"
    }
   },
   "cell_type": "code",
   "source": [
    "whole_data_lsm_means = pd.DataFrame(whole_data_lsm_means).reset_index()\n",
    "whole_data_lsm_means.columns = ['Feature', 'Real_Mean']\n",
    "whole_data_lsm_means_transformed = pd.DataFrame({\n",
    "    row['Feature']: [row['Real_Mean']] \n",
    "    for _, row in whole_data_lsm_means.iterrows()\n",
    "})\n",
    "whole_data_lsm_means_transformed.rename(columns={\"pair_no\": \"sample_no\"}, inplace=True)"
   ],
   "id": "ce9ece972d30ae2",
   "outputs": [],
   "execution_count": 119
  },
  {
   "metadata": {
    "ExecuteTime": {
     "end_time": "2025-05-14T13:13:34.209355Z",
     "start_time": "2025-05-14T13:13:34.204786Z"
    }
   },
   "cell_type": "code",
   "source": [
    "baseline_lsm_means = pd.DataFrame(baseline_lsm_means).reset_index()\n",
    "baseline_lsm_means.columns = ['Feature', 'Real_Mean']\n",
    "baseline_lsm_means_transformed = pd.DataFrame({\n",
    "    row['Feature']: [row['Real_Mean']] \n",
    "    for _, row in baseline_lsm_means.iterrows()\n",
    "})\n",
    "baseline_lsm_means_transformed.rename(columns={\"pair_no\": \"sample_no\"}, inplace=True)"
   ],
   "id": "34084ec15da96635",
   "outputs": [],
   "execution_count": 120
  },
  {
   "metadata": {
    "ExecuteTime": {
     "end_time": "2025-05-14T13:13:34.637083Z",
     "start_time": "2025-05-14T13:13:34.632366Z"
    }
   },
   "cell_type": "code",
   "source": [
    "unimodal_lsm_means = pd.DataFrame(unimodal_lsm_means).reset_index()\n",
    "unimodal_lsm_means.columns = ['Feature', 'Real_Mean']\n",
    "unimodal_lsm_means_transformed = pd.DataFrame({\n",
    "    row['Feature']: [row['Real_Mean']] \n",
    "    for _, row in unimodal_lsm_means.iterrows()\n",
    "})\n",
    "unimodal_lsm_means_transformed.rename(columns={\"pair_no\": \"sample_no\"}, inplace=True)"
   ],
   "id": "b0f549dea0daa0c0",
   "outputs": [],
   "execution_count": 121
  },
  {
   "metadata": {
    "ExecuteTime": {
     "end_time": "2025-05-14T13:13:35.097039Z",
     "start_time": "2025-05-14T13:13:35.091955Z"
    }
   },
   "cell_type": "code",
   "source": [
    "unfamiliar_lsm_means = pd.DataFrame(unfamiliar_lsm_means).reset_index()\n",
    "unfamiliar_lsm_means.columns = ['Feature', 'Real_Mean']\n",
    "unfamiliar_lsm_means_transformed = pd.DataFrame({\n",
    "    row['Feature']: [row['Real_Mean']] \n",
    "    for _, row in unfamiliar_lsm_means.iterrows()\n",
    "})\n",
    "unfamiliar_lsm_means_transformed.rename(columns={\"pair_no\": \"sample_no\"}, inplace=True)"
   ],
   "id": "b2bfa4506fd792b9",
   "outputs": [],
   "execution_count": 122
  },
  {
   "metadata": {
    "ExecuteTime": {
     "end_time": "2025-05-14T13:13:35.605985Z",
     "start_time": "2025-05-14T13:13:35.600487Z"
    }
   },
   "cell_type": "code",
   "source": [
    "first_third_lsm_means = pd.DataFrame(first_third_lsm_means).reset_index()\n",
    "first_third_lsm_means.columns = ['Feature', 'Real_Mean']\n",
    "first_third_lsm_means_transformed = pd.DataFrame({\n",
    "    row['Feature']: [row['Real_Mean']] \n",
    "    for _, row in first_third_lsm_means.iterrows()\n",
    "})\n",
    "first_third_lsm_means_transformed.rename(columns={\"pair_no\": \"sample_no\"}, inplace=True)\n"
   ],
   "id": "98588321c91745a0",
   "outputs": [],
   "execution_count": 123
  },
  {
   "metadata": {
    "ExecuteTime": {
     "end_time": "2025-05-14T13:13:36.090408Z",
     "start_time": "2025-05-14T13:13:36.084331Z"
    }
   },
   "cell_type": "code",
   "source": [
    "second_third_lsm_means = pd.DataFrame(second_third_lsm_means).reset_index()\n",
    "second_third_lsm_means.columns = ['Feature', 'Real_Mean']\n",
    "second_third_lsm_means_transformed = pd.DataFrame({\n",
    "    row['Feature']: [row['Real_Mean']] \n",
    "    for _, row in second_third_lsm_means.iterrows()\n",
    "})\n",
    "second_third_lsm_means_transformed.rename(columns={\"pair_no\": \"sample_no\"}, inplace=True)"
   ],
   "id": "779d580661d1453f",
   "outputs": [],
   "execution_count": 124
  },
  {
   "metadata": {
    "ExecuteTime": {
     "end_time": "2025-05-15T06:55:55.344831Z",
     "start_time": "2025-05-15T06:55:55.337557Z"
    }
   },
   "cell_type": "code",
   "source": [
    "third_third_lsm_means = pd.DataFrame(third_third_lsm_means).reset_index()\n",
    "third_third_lsm_means.columns = ['Feature', 'Real_Mean']\n",
    "third_third_lsm_means_transformed = pd.DataFrame({\n",
    "    row['Feature']: [row['Real_Mean']] \n",
    "    for _, row in third_third_lsm_means.iterrows()\n",
    "})\n",
    "third_third_lsm_means_transformed.rename(columns={\"pair_no\": \"sample_no\"}, inplace=True)"
   ],
   "id": "3b746f8b1aadcac4",
   "outputs": [],
   "execution_count": 12
  },
  {
   "metadata": {
    "ExecuteTime": {
     "end_time": "2025-05-14T13:13:37.074289Z",
     "start_time": "2025-05-14T13:13:37.069519Z"
    }
   },
   "cell_type": "code",
   "source": [
    "whole_data_lsm_means_adapted = pd.DataFrame(whole_data_lsm_means_adapted).reset_index()\n",
    "whole_data_lsm_means_adapted.columns = ['Feature', 'Real_Mean']\n",
    "whole_data_lsm_means_adapted_transformed = pd.DataFrame({\n",
    "    row['Feature']: [row['Real_Mean']] \n",
    "    for _, row in whole_data_lsm_means_adapted.iterrows()\n",
    "})\n",
    "whole_data_lsm_means_adapted_transformed.rename(columns={\"pair_no\": \"sample_no\"}, inplace=True)"
   ],
   "id": "7965748c891b2462",
   "outputs": [],
   "execution_count": 126
  },
  {
   "metadata": {
    "ExecuteTime": {
     "end_time": "2025-05-14T13:13:37.548273Z",
     "start_time": "2025-05-14T13:13:37.543Z"
    }
   },
   "cell_type": "code",
   "source": [
    "baseline_lsm_means_adapted = pd.DataFrame(baseline_lsm_means_adapted).reset_index()\n",
    "baseline_lsm_means_adapted.columns = ['Feature', 'Real_Mean']\n",
    "baseline_lsm_means_adapted_transformed = pd.DataFrame({\n",
    "    row['Feature']: [row['Real_Mean']] \n",
    "    for _, row in baseline_lsm_means_adapted.iterrows()\n",
    "})\n",
    "baseline_lsm_means_adapted_transformed.rename(columns={\"pair_no\": \"sample_no\"}, inplace=True)"
   ],
   "id": "5b0f5a0bedde5546",
   "outputs": [],
   "execution_count": 127
  },
  {
   "metadata": {
    "ExecuteTime": {
     "end_time": "2025-05-14T13:13:38.019846Z",
     "start_time": "2025-05-14T13:13:38.014915Z"
    }
   },
   "cell_type": "code",
   "source": [
    "unimodal_lsm_means_adapted = pd.DataFrame(unimodal_lsm_means_adapted).reset_index()\n",
    "unimodal_lsm_means_adapted.columns = ['Feature', 'Real_Mean']\n",
    "unimodal_lsm_means_adapted_transformed = pd.DataFrame({\n",
    "    row['Feature']: [row['Real_Mean']] \n",
    "    for _, row in unimodal_lsm_means_adapted.iterrows()\n",
    "})\n",
    "unimodal_lsm_means_adapted_transformed.rename(columns={\"pair_no\": \"sample_no\"}, inplace=True)"
   ],
   "id": "520e7bd72828513a",
   "outputs": [],
   "execution_count": 128
  },
  {
   "metadata": {
    "ExecuteTime": {
     "end_time": "2025-05-14T13:13:38.923778Z",
     "start_time": "2025-05-14T13:13:38.917838Z"
    }
   },
   "cell_type": "code",
   "source": [
    "unfamiliar_lsm_means_adapted = pd.DataFrame(unfamiliar_lsm_means_adapted).reset_index()\n",
    "unfamiliar_lsm_means_adapted.columns = ['Feature', 'Real_Mean']\n",
    "unfamiliar_lsm_means_adapted_transformed = pd.DataFrame({\n",
    "    row['Feature']: [row['Real_Mean']] \n",
    "    for _, row in unfamiliar_lsm_means_adapted.iterrows()\n",
    "})\n",
    "unfamiliar_lsm_means_adapted_transformed.rename(columns={\"pair_no\": \"sample_no\"}, inplace=True)"
   ],
   "id": "53e111e4e3383421",
   "outputs": [],
   "execution_count": 129
  },
  {
   "metadata": {
    "ExecuteTime": {
     "end_time": "2025-05-14T13:13:40.060492Z",
     "start_time": "2025-05-14T13:13:40.048716Z"
    }
   },
   "cell_type": "code",
   "source": [
    "first_third_lsm_means_adapted = pd.DataFrame(first_third_lsm_means_adapted).reset_index()\n",
    "first_third_lsm_means_adapted.columns = ['Feature', 'Real_Mean']\n",
    "first_third_lsm_means_adapted_transformed = pd.DataFrame({\n",
    "    row['Feature']: [row['Real_Mean']]\n",
    "    for _, row in first_third_lsm_means_adapted.iterrows()\n",
    "})\n",
    "first_third_lsm_means_adapted_transformed.rename(columns={\"pair_no\": \"sample_no\"}, inplace=True)"
   ],
   "id": "3cc3f41c09fde297",
   "outputs": [],
   "execution_count": 130
  },
  {
   "metadata": {
    "ExecuteTime": {
     "end_time": "2025-05-14T13:13:40.686329Z",
     "start_time": "2025-05-14T13:13:40.680388Z"
    }
   },
   "cell_type": "code",
   "source": [
    "second_third_lsm_means_adapted = pd.DataFrame(second_third_lsm_means_adapted).reset_index()\n",
    "second_third_lsm_means_adapted.columns = ['Feature', 'Real_Mean']\n",
    "second_third_lsm_means_adapted_transformed = pd.DataFrame({\n",
    "    row['Feature']: [row['Real_Mean']]\n",
    "    for _, row in second_third_lsm_means_adapted.iterrows()\n",
    "})\n",
    "second_third_lsm_means_adapted_transformed.rename(columns={\"pair_no\": \"sample_no\"}, inplace=True)"
   ],
   "id": "bac607519b84c2ca",
   "outputs": [],
   "execution_count": 131
  },
  {
   "metadata": {
    "ExecuteTime": {
     "end_time": "2025-05-15T06:56:00.285028Z",
     "start_time": "2025-05-15T06:56:00.276762Z"
    }
   },
   "cell_type": "code",
   "source": [
    "third_third_lsm_means_adapted = pd.DataFrame(third_third_lsm_means_adapted).reset_index()\n",
    "third_third_lsm_means_adapted.columns = ['Feature', 'Real_Mean']\n",
    "third_third_lsm_means_adapted_transformed = pd.DataFrame({\n",
    "    row['Feature']: [row['Real_Mean']]\n",
    "    for _, row in third_third_lsm_means_adapted.iterrows()\n",
    "})\n",
    "third_third_lsm_means_adapted_transformed.rename(columns={\"pair_no\": \"sample_no\"}, inplace=True)\n",
    "\n"
   ],
   "id": "f8f2de8729d44ba3",
   "outputs": [],
   "execution_count": 13
  },
  {
   "metadata": {
    "ExecuteTime": {
     "end_time": "2025-05-14T13:13:42.512465Z",
     "start_time": "2025-05-14T13:13:42.489384Z"
    }
   },
   "cell_type": "code",
   "source": [
    "whole_data_lsm_means_transformed.to_csv(\"../results/whole_data_lsm_means.csv\", index=False)\n",
    "baseline_lsm_means_transformed.to_csv(\"../results/baseline_lsm_means.csv\", index=False)\n",
    "unimodal_lsm_means_transformed.to_csv(\"../results/unimodal_lsm_means.csv\", index=False)\n",
    "unfamiliar_lsm_means_transformed.to_csv(\"../results/unfamiliar_lsm_means.csv\", index=False)\n",
    "first_third_lsm_means_transformed.to_csv(\"../results/first_third_lsm_means.csv\", index=False)\n",
    "second_third_lsm_means_transformed.to_csv(\"../results/second_third_lsm_means.csv\", index=False)\n",
    "third_third_lsm_means_transformed.to_csv(\"../results/third_third_lsm_means.csv\", index=False)\n",
    "whole_data_lsm_means_adapted_transformed.to_csv(\"../results/whole_data_lsm_means_adapted.csv\", index=False)\n",
    "baseline_lsm_means_adapted_transformed.to_csv(\"../results/baseline_lsm_means_adapted.csv\", index=False)\n",
    "unimodal_lsm_means_adapted_transformed.to_csv(\"../results/unimodal_lsm_means_adapted.csv\", index=False)\n",
    "unfamiliar_lsm_means_adapted_transformed.to_csv(\"../results/unfamiliar_lsm_means_adapted.csv\", index=False)\n",
    "first_third_lsm_means_adapted_transformed.to_csv(\"../results/first_third_lsm_means_adapted.csv\", index=False)\n",
    "second_third_lsm_means_adapted_transformed.to_csv(\"../results/second_third_lsm_means_adapted.csv\", index=False)\n",
    "third_third_lsm_means_adapted_transformed.to_csv(\"../results/third_third_lsm_means_adapted.csv\", index=False)\n"
   ],
   "id": "a6a2768f119bbf45",
   "outputs": [],
   "execution_count": 133
  },
  {
   "metadata": {},
   "cell_type": "markdown",
   "source": "## Calculate pseudo LSM",
   "id": "1812b7c3abbf54ce"
  },
  {
   "metadata": {
    "ExecuteTime": {
     "end_time": "2025-05-15T06:56:03.961893Z",
     "start_time": "2025-05-15T06:56:03.949732Z"
    }
   },
   "cell_type": "code",
   "source": [
    "def lsm_count(df_list):\n",
    "    all_results = []\n",
    "    \n",
    "    for df in df_list:\n",
    "        lsm_results = []\n",
    "        for index, row in df.iterrows():\n",
    "            lsm_adverb = 1 - ((abs(row['adv_gondor'] - row['adv_mordor'])) / (row['adv_gondor'] + row['adv_mordor'] + 0.00001))\n",
    "            lsm_article = 1 - ((abs(row['article_gondor'] - row['article_mordor'])) / (row['article_gondor'] + row['article_mordor'] + 0.00001))\n",
    "            lsm_preverb = 1 - ((abs(row['preverb_gondor'] - row['preverb_mordor'])) / (row['preverb_gondor'] + row['preverb_mordor'] + 0.00001))\n",
    "            lsm_postverb = 1 - ((abs(row['postverb_gondor'] - row['postverb_mordor'])) / (row['postverb_gondor'] + row['postverb_mordor'] + 0.00001))\n",
    "            lsm_pronoun = 1 - ((abs(row['pronoun_gondor'] - row['pronoun_mordor'])) / (row['pronoun_gondor'] + row['pronoun_mordor'] + 0.00001))\n",
    "            lsm_conjunction = 1 - ((abs(row['conjunction_gondor'] - row['conjunction_mordor'])) / (row['conjunction_gondor'] + row['conjunction_mordor'] + 0.00001))\n",
    "            lsm_interjection = 1 - ((abs(row['interjection_gondor'] - row['interjection_mordor'])) / (row['interjection_gondor'] + row['interjection_mordor'] + 0.00001))\n",
    "            lsm_det = 1 - ((abs(row['det_gondor'] - row['det_mordor'])) / (row['det_gondor'] + row['det_mordor'] + 0.00001))\n",
    "\n",
    "        \n",
    "            lsm_avg = (lsm_adverb + lsm_article + lsm_interjection + lsm_conjunction + \n",
    "                      lsm_pronoun + lsm_postverb + lsm_preverb + lsm_det) / 8\n",
    "            \n",
    "            lsm_results.append({\n",
    "                #\"pair_no\": pair_no,\n",
    "                \"lsm_article\": lsm_article,\n",
    "                \"lsm_preverb\": lsm_preverb,\n",
    "                \"lsm_postverb\": lsm_postverb,\n",
    "                \"lsm_pronoun\": lsm_pronoun,\n",
    "                \"lsm_conjunction\": lsm_conjunction,\n",
    "                \"lsm_interjection\": lsm_interjection,\n",
    "                \"lsm_adverb\": lsm_adverb,\n",
    "                \"lsm_det\": lsm_det,\n",
    "                \"lsm_avg\": lsm_avg\n",
    "            })\n",
    "        \n",
    "        all_results.append(pd.DataFrame(lsm_results))\n",
    "    \n",
    "    return all_results"
   ],
   "id": "31187134b81937b3",
   "outputs": [],
   "execution_count": 14
  },
  {
   "metadata": {},
   "cell_type": "markdown",
   "source": "## Calculate the adapted LSM for pseudo data",
   "id": "8c6bfa0f53ddfe1f"
  },
  {
   "metadata": {
    "ExecuteTime": {
     "end_time": "2025-05-15T06:56:07.396580Z",
     "start_time": "2025-05-15T06:56:07.387293Z"
    }
   },
   "cell_type": "code",
   "source": [
    "def lsm_count_adapted(df_list):\n",
    "    all_results = []\n",
    "    \n",
    "    for df in df_list:\n",
    "        lsm_results = []\n",
    "        for index, row in df.iterrows():\n",
    "            lsm_adverb = 1 - ((abs(row['adv_gondor'] - row['adv_mordor'])) / (row['adv_gondor'] + row['adv_mordor'] + 0.00001))\n",
    "            lsm_article = 1 - ((abs(row['article_gondor'] - row['article_mordor'])) / (row['article_gondor'] + row['article_mordor'] + 0.00001))\n",
    "            lsm_preverb = 1 - ((abs(row['preverb_gondor'] - row['preverb_mordor'])) / (row['preverb_gondor'] + row['preverb_mordor'] + 0.00001))\n",
    "            lsm_postverb = 1 - ((abs(row['postverb_gondor'] - row['postverb_mordor'])) / (row['postverb_gondor'] + row['postverb_mordor'] + 0.00001))\n",
    "            lsm_pronoun = 1 - ((abs(row['pronoun_gondor'] - row['pronoun_mordor'])) / (row['pronoun_gondor'] + row['pronoun_mordor'] + 0.00001))\n",
    "            lsm_conjunction = 1 - ((abs(row['conjunction_gondor'] - row['conjunction_mordor'])) / (row['conjunction_gondor'] + row['conjunction_mordor'] + 0.00001))\n",
    "            lsm_interjection = 1 - ((abs(row['interjection_gondor'] - row['interjection_mordor'])) / (row['interjection_gondor'] + row['interjection_mordor'] + 0.00001))\n",
    "            lsm_det = 1 - ((abs(row['det_gondor'] - row['det_mordor'])) / (row['det_gondor'] + row['det_mordor'] + 0.00001))\n",
    "            lsm_s_first_person = 1 - ((abs(row['s_first_person_gondor'] - row['s_first_person_mordor'])) / (row['s_first_person_gondor'] + row['s_first_person_mordor'] + 0.00001))\n",
    "            lsm_s_second_person = 1 - ((abs(row['s_second_person_gondor'] - row['s_second_person_mordor'])) / (row['s_second_person_gondor'] + row['s_second_person_mordor'] + 0.00001))\n",
    "            lsm_s_third_person = 1 - ((abs(row['s_third_person_gondor'] - row['s_third_person_mordor'])) / (row['s_third_person_gondor'] + row['s_third_person_mordor'] + 0.00001))\n",
    "            lsm_p_first_person = 1 - ((abs(row['p_first_person_gondor'] - row['p_first_person_mordor'])) / (row['p_first_person_gondor'] + row['p_first_person_mordor'] + 0.00001))\n",
    "            lsm_p_second_person = 1 - ((abs(row['p_second_person_gondor'] - row['p_second_person_mordor'])) / (row['p_second_person_gondor'] + row['p_second_person_mordor'] + 0.00001))\n",
    "            lsm_p_third_person = 1 - ((abs(row['p_third_person_gondor'] - row['p_third_person_mordor'])) / (row['p_third_person_gondor'] + row['p_third_person_mordor'] + 0.00001))\n",
    "            \n",
    "            lsm_avg = (lsm_adverb + lsm_article + lsm_interjection + lsm_conjunction + \n",
    "                      lsm_pronoun + lsm_postverb + lsm_preverb + lsm_det + \n",
    "                      lsm_p_first_person + lsm_p_second_person + lsm_p_third_person + \n",
    "                      lsm_s_first_person + lsm_s_second_person + lsm_s_third_person) / 14\n",
    "            \n",
    "            #pair_no = int(row['PairNo'])\n",
    "            lsm_results.append({\n",
    "                #\"pair_no\": pair_no,\n",
    "                \"lsm_article\": lsm_article,\n",
    "                \"lsm_preverb\": lsm_preverb,\n",
    "                \"lsm_postverb\": lsm_postverb,\n",
    "                \"lsm_pronoun\": lsm_pronoun,\n",
    "                \"lsm_conjunction\": lsm_conjunction,\n",
    "                \"lsm_interjection\": lsm_interjection,\n",
    "                \"lsm_adverb\": lsm_adverb,\n",
    "                \"lsm_s_first_person\": lsm_s_first_person,\n",
    "                \"lsm_s_second_person\": lsm_s_second_person,\n",
    "                \"lsm_s_third_person\": lsm_s_third_person,\n",
    "                \"lsm_p_first_person\": lsm_p_first_person,\n",
    "                \"lsm_p_second_person\": lsm_p_second_person,\n",
    "                \"lsm_p_third_person\": lsm_p_third_person,\n",
    "                \"lsm_det\": lsm_det,\n",
    "                \"lsm_avg\": lsm_avg\n",
    "            })\n",
    "        \n",
    "        all_results.append(pd.DataFrame(lsm_results))\n",
    "    \n",
    "    return all_results"
   ],
   "id": "6bffdb26a8e9552e",
   "outputs": [],
   "execution_count": 15
  },
  {
   "metadata": {
    "ExecuteTime": {
     "end_time": "2025-05-15T06:56:26.752402Z",
     "start_time": "2025-05-15T06:56:14.665514Z"
    }
   },
   "cell_type": "code",
   "source": [
    "pseudo_whole_corpus_lsm = lsm_count(pseudo_whole_corpus_sampled_dfs)\n",
    "pseudo_baseline_lsm = lsm_count(pseudo_baseline_sampled_dfs)\n",
    "pseudo_unimodal_lsm = lsm_count(pseudo_unimodal_sampled_dfs)\n",
    "pseudo_unfamiliar_lsm = lsm_count(pseudo_unfamiliar_sampled_dfs)\n",
    "pseudo_first_third_lsm = lsm_count(pseudo_first_third_sampled_dfs)\n",
    "pseudo_second_third_lsm = lsm_count(pseudo_second_third_sampled_dfs)\n",
    "pseudo_third_third_lsm = lsm_count(pseudo_third_third_sampled_dfs)"
   ],
   "id": "abf461848d3ecb31",
   "outputs": [],
   "execution_count": 16
  },
  {
   "metadata": {
    "ExecuteTime": {
     "end_time": "2025-05-15T06:56:43.588453Z",
     "start_time": "2025-05-15T06:56:26.768140Z"
    }
   },
   "cell_type": "code",
   "source": [
    "pseudo_whole_corpus_lsm_adapted = lsm_count_adapted(pseudo_whole_corpus_sampled_dfs)\n",
    "pseudo_baseline_lsm_adapted = lsm_count_adapted(pseudo_baseline_sampled_dfs)\n",
    "pseudo_unimodal_lsm_adapted = lsm_count_adapted(pseudo_unimodal_sampled_dfs)\n",
    "pseudo_unfamiliar_lsm_adapted = lsm_count_adapted(pseudo_unfamiliar_sampled_dfs)\n",
    "pseudo_first_third_lsm_adapted = lsm_count_adapted(pseudo_first_third_sampled_dfs)\n",
    "pseudo_second_third_lsm_adapted = lsm_count_adapted(pseudo_second_third_sampled_dfs)\n",
    "pseudo_third_third_lsm_adapted = lsm_count_adapted(pseudo_third_third_sampled_dfs)\n"
   ],
   "id": "d0b3d39a23d6992d",
   "outputs": [],
   "execution_count": 17
  },
  {
   "metadata": {},
   "cell_type": "markdown",
   "source": "## Calculate the means of LSM",
   "id": "a74a9313e223724d"
  },
  {
   "metadata": {
    "ExecuteTime": {
     "end_time": "2025-05-15T06:56:43.785759Z",
     "start_time": "2025-05-15T06:56:43.782377Z"
    }
   },
   "cell_type": "code",
   "source": [
    "def calculate_means(dataframe_list):\n",
    "    all_means = []\n",
    "    \n",
    "    for i, df in enumerate(dataframe_list):\n",
    "        means = round(df.mean(), 2)\n",
    "        means['sample_no'] = i + 1\n",
    "        all_means.append(means)\n",
    "    \n",
    "    result_df = pd.DataFrame(all_means)\n",
    "    \n",
    "    cols = ['sample_no'] + [col for col in result_df.columns if col != 'sample_no']\n",
    "    result_df = result_df[cols]\n",
    "    \n",
    "    return result_df"
   ],
   "id": "5f4460843daa4d21",
   "outputs": [],
   "execution_count": 18
  },
  {
   "metadata": {
    "ExecuteTime": {
     "end_time": "2025-05-15T06:56:58.259460Z",
     "start_time": "2025-05-15T06:56:57.586069Z"
    }
   },
   "cell_type": "code",
   "source": [
    "pseudo_whole_corpus_lsm_means = calculate_means(pseudo_whole_corpus_lsm)\n",
    "pseudo_baseline_lsm_means = calculate_means(pseudo_baseline_lsm)\n",
    "pseudo_unimodal_lsm_means = calculate_means(pseudo_unimodal_lsm)\n",
    "pseudo_unfamiliar_lsm_means = calculate_means(pseudo_unfamiliar_lsm)\n",
    "pseudo_first_third_lsm_means = calculate_means(pseudo_first_third_lsm)\n",
    "pseudo_second_third_lsm_means = calculate_means(pseudo_second_third_lsm)\n",
    "pseudo_third_third_lsm_means = calculate_means(pseudo_third_third_lsm)"
   ],
   "id": "cc69c78c5bcd9eeb",
   "outputs": [],
   "execution_count": 20
  },
  {
   "metadata": {
    "ExecuteTime": {
     "end_time": "2025-05-15T07:18:12.832485Z",
     "start_time": "2025-05-15T07:18:12.221320Z"
    }
   },
   "cell_type": "code",
   "source": [
    "pseudo_whole_corpus_lsm_adapted_means = calculate_means(pseudo_whole_corpus_lsm_adapted)\n",
    "pseudo_baseline_lsm_adapted_means = calculate_means(pseudo_baseline_lsm_adapted)\n",
    "pseudo_unimodal_lsm_adapted_means = calculate_means(pseudo_unimodal_lsm_adapted)\n",
    "pseudo_unfamiliar_lsm_adapted_means = calculate_means(pseudo_unfamiliar_lsm_adapted)\n",
    "pseudo_first_third_lsm_adapted_means = calculate_means(pseudo_first_third_lsm_adapted)\n",
    "pseudo_second_third_lsm_adapted_means = calculate_means(pseudo_second_third_lsm_adapted)\n",
    "pseudo_third_third_lsm_adapted_means = calculate_means(pseudo_third_third_lsm_adapted)"
   ],
   "id": "2258fe2e47555a49",
   "outputs": [],
   "execution_count": 35
  },
  {
   "metadata": {
    "ExecuteTime": {
     "end_time": "2025-05-15T07:00:02.101898Z",
     "start_time": "2025-05-15T07:00:02.094129Z"
    }
   },
   "cell_type": "code",
   "source": [
    "mean_pseudo_whole_corpus_lsm_means = round(pseudo_whole_corpus_lsm_means.mean(), 2)\n",
    "mean_pseudo_baseline_lsm_means = round(pseudo_baseline_lsm_means.mean(), 2)\n",
    "mean_pseudo_unimodal_lsm_means = round(pseudo_unimodal_lsm_means.mean(), 2)\n",
    "mean_pseudo_unfamiliar_lsm_means = round(pseudo_unfamiliar_lsm_means.mean(), 2)\n",
    "mean_pseudo_first_third_lsm_means = round(pseudo_first_third_lsm_means.mean(), 2)\n",
    "mean_pseudo_second_third_lsm_means = round(pseudo_second_third_lsm_means.mean(), 2)\n",
    "mean_pseudo_third_third_lsm_means = round(pseudo_third_third_lsm_means.mean(), 2)"
   ],
   "id": "8dd51429bf8b5a9f",
   "outputs": [],
   "execution_count": 25
  },
  {
   "metadata": {
    "ExecuteTime": {
     "end_time": "2025-05-15T07:18:27.558306Z",
     "start_time": "2025-05-15T07:18:27.554699Z"
    }
   },
   "cell_type": "code",
   "source": [
    "mean_pseudo_whole_corpus_lsm_adapted_means = round(pseudo_whole_corpus_lsm_adapted_means.mean(), 2)\n",
    "mean_pseudo_baseline_lsm_adapted_means = round(pseudo_baseline_lsm_adapted_means.mean(), 2)\n",
    "mean_pseudo_unimodal_lsm_adapted_means = round(pseudo_unimodal_lsm_adapted_means.mean(), 2)\n",
    "mean_pseudo_unfamiliar_lsm_adapted_means = round(pseudo_unfamiliar_lsm_adapted_means.mean(), 2)\n",
    "mean_pseudo_first_third_lsm_adapted_means = round(pseudo_first_third_lsm_adapted_means.mean(), 2)\n",
    "mean_pseudo_second_third_lsm_adapted_means = round(pseudo_second_third_lsm_adapted_means.mean(), 2)\n",
    "mean_pseudo_third_third_lsm_adapted_means = round(pseudo_third_third_lsm_adapted_means.mean(), 2)\n"
   ],
   "id": "e2e8bf8b4343c73d",
   "outputs": [],
   "execution_count": 36
  },
  {
   "metadata": {
    "ExecuteTime": {
     "end_time": "2025-05-14T12:54:45.340565Z",
     "start_time": "2025-05-14T12:54:45.332548Z"
    }
   },
   "cell_type": "code",
   "source": [
    "mean_of_means_whole_corpus = pd.DataFrame(mean_pseudo_whole_corpus_lsm_means).reset_index()\n",
    "mean_of_means_whole_corpus.columns = ['Feature', 'Mean']\n",
    "mean_of_means_baseline = pd.DataFrame(mean_pseudo_baseline_lsm_means).reset_index()\n",
    "mean_of_means_baseline.columns = ['Feature', 'Mean']\n",
    "mean_of_means_unimodal = pd.DataFrame(mean_pseudo_unimodal_lsm_means).reset_index()\n",
    "mean_of_means_unimodal.columns = ['Feature', 'Mean']\n",
    "mean_of_means_unfamiliar = pd.DataFrame(mean_pseudo_unfamiliar_lsm_means).reset_index()\n",
    "mean_of_means_unfamiliar.columns = ['Feature', 'Mean']\n",
    "mean_of_means_first_third = pd.DataFrame(mean_pseudo_first_third_lsm_means).reset_index()\n",
    "mean_of_means_first_third.columns = ['Feature', 'Mean']\n",
    "mean_of_means_second_third = pd.DataFrame(mean_pseudo_second_third_lsm_means).reset_index()\n",
    "mean_of_means_second_third.columns = ['Feature', 'Mean']\n",
    "mean_of_means_third_third = pd.DataFrame(mean_pseudo_third_third_lsm_means).reset_index()\n",
    "mean_of_means_third_third.columns = ['Feature', 'Mean']"
   ],
   "id": "de3ed4b63c86eb7e",
   "outputs": [],
   "execution_count": 65
  },
  {
   "metadata": {
    "ExecuteTime": {
     "end_time": "2025-05-14T12:55:55.728721Z",
     "start_time": "2025-05-14T12:55:55.718780Z"
    }
   },
   "cell_type": "code",
   "source": [
    "mean_of_means_whole_corpus_adapted = pd.DataFrame(mean_pseudo_whole_corpus_lsm_adapted_means).reset_index()\n",
    "mean_of_means_whole_corpus_adapted.columns = ['Feature', 'Mean']\n",
    "mean_of_means_baseline_adapted = pd.DataFrame(mean_pseudo_baseline_lsm_adapted_means).reset_index()\n",
    "mean_of_means_baseline_adapted.columns = ['Feature', 'Mean']\n",
    "mean_of_means_unimodal_adapted = pd.DataFrame(mean_pseudo_unimodal_lsm_adapted_means).reset_index()\n",
    "mean_of_means_unimodal_adapted.columns = ['Feature', 'Mean']\n",
    "mean_of_means_unfamiliar_adapted = pd.DataFrame(mean_pseudo_unfamiliar_lsm_adapted_means).reset_index()\n",
    "mean_of_means_unfamiliar_adapted.columns = ['Feature', 'Mean']\n",
    "mean_of_means_first_third_adapted = pd.DataFrame(mean_pseudo_first_third_lsm_adapted_means).reset_index()\n",
    "mean_of_means_first_third_adapted.columns = ['Feature', 'Mean']\n",
    "mean_of_means_second_third_adapted = pd.DataFrame(mean_pseudo_second_third_lsm_adapted_means).reset_index()\n",
    "mean_of_means_second_third_adapted.columns = ['Feature', 'Mean']\n",
    "mean_of_means_third_third_adapted = pd.DataFrame(mean_pseudo_third_third_lsm_adapted_means).reset_index()\n",
    "mean_of_means_third_third_adapted.columns = ['Feature', 'Mean']"
   ],
   "id": "9cee83e49d72a2bf",
   "outputs": [],
   "execution_count": 67
  },
  {
   "metadata": {
    "ExecuteTime": {
     "end_time": "2025-05-14T12:56:21.939228Z",
     "start_time": "2025-05-14T12:56:21.928261Z"
    }
   },
   "cell_type": "code",
   "source": [
    "mean_of_means_whole_corpus_adapted.to_csv(\"../results/mean_of_means_whole_corpus_adapted.csv\", index=False)\n",
    "mean_of_means_baseline_adapted.to_csv(\"../results/mean_of_means_baseline_adapted.csv\", index=False)\n",
    "mean_of_means_unimodal_adapted.to_csv(\"../results/mean_of_means_unimodal_adapted.csv\", index=False)\n",
    "mean_of_means_unfamiliar_adapted.to_csv(\"../results/mean_of_means_unfamiliar_adapted.csv\", index=False)\n",
    "mean_of_means_first_third_adapted.to_csv(\"../results/mean_of_means_first_third_adapted.csv\", index=False)\n",
    "mean_of_means_second_third_adapted.to_csv(\"../results/mean_of_means_second_third_adapted.csv\", index=False)\n",
    "mean_of_means_third_third_adapted.to_csv(\"../results/mean_of_means_third_third_adapted.csv\", index=False)"
   ],
   "id": "893c8e1cf96d7f65",
   "outputs": [],
   "execution_count": 68
  },
  {
   "metadata": {
    "ExecuteTime": {
     "end_time": "2025-05-14T12:56:22.789340Z",
     "start_time": "2025-05-14T12:56:22.781676Z"
    }
   },
   "cell_type": "code",
   "source": [
    "mean_of_means_whole_corpus.to_csv(\"../results/mean_of_means_whole_corpus.csv\", index=False)\n",
    "mean_of_means_baseline.to_csv(\"../results/mean_of_means_baseline.csv\", index=False)\n",
    "mean_of_means_unimodal.to_csv(\"../results/mean_of_means_unimodal.csv\", index=False)\n",
    "mean_of_means_unfamiliar.to_csv(\"../results/mean_of_means_unfamiliar.csv\", index=False)\n",
    "mean_of_means_first_third.to_csv(\"../results/mean_of_means_first_third.csv\", index=False)\n",
    "mean_of_means_second_third.to_csv(\"../results/mean_of_means_second_third.csv\", index=False)\n",
    "mean_of_means_third_third.to_csv(\"../results/mean_of_means_third_third.csv\", index=False)"
   ],
   "id": "80453525f8167a24",
   "outputs": [],
   "execution_count": 69
  },
  {
   "metadata": {},
   "cell_type": "markdown",
   "source": "## Compare the real and the pseudo LSM values",
   "id": "daa5653dbfae5024"
  },
  {
   "metadata": {
    "ExecuteTime": {
     "end_time": "2025-05-15T07:43:22.009540Z",
     "start_time": "2025-05-15T07:43:22.003483Z"
    }
   },
   "cell_type": "code",
   "source": [
    "def compare_with_original(original_df, pseudo_df):\n",
    "    if len(original_df) != 1:\n",
    "        raise ValueError(\"Original DataFrame must contain exactly one row\")\n",
    "    \n",
    "    higher_counts = {col: 0 for col in original_df.columns}\n",
    "    original_values = original_df.iloc[0]\n",
    "    for _, pseudo_row in pseudo_df.iterrows():\n",
    "        for column in original_df.columns:\n",
    "            if pseudo_row[column] >= original_values[column]:\n",
    "                higher_counts[column] += 1\n",
    "    result_df = pd.DataFrame({\n",
    "        'Feature': list(higher_counts.keys()),\n",
    "        'Higher_than_original': list(higher_counts.values())\n",
    "    })\n",
    "    \n",
    "    return result_df"
   ],
   "id": "6a211e00cfa50b92",
   "outputs": [],
   "execution_count": 54
  },
  {
   "metadata": {
    "ExecuteTime": {
     "end_time": "2025-05-15T07:16:54.058008Z",
     "start_time": "2025-05-15T07:16:53.985401Z"
    }
   },
   "cell_type": "code",
   "outputs": [],
   "execution_count": 32,
   "source": [
    "whole_corpus_lsm_compare = compare_with_original(whole_data_lsm_means_transformed, pseudo_whole_corpus_lsm_means)\n",
    "baseline_lsm_compare = compare_with_original(baseline_lsm_means_transformed, pseudo_baseline_lsm_means)\n",
    "unimodal_lsm_compare = compare_with_original(unimodal_lsm_means_transformed, pseudo_unimodal_lsm_means)\n",
    "unfamiliar_lsm_compare = compare_with_original(unfamiliar_lsm_means_transformed, pseudo_unfamiliar_lsm_means)\n",
    "first_third_lsm_compare = compare_with_original(first_third_lsm_means_transformed, pseudo_first_third_lsm_means)\n",
    "second_third_lsm_compare = compare_with_original(second_third_lsm_means_transformed, pseudo_second_third_lsm_means)\n",
    "third_third_lsm_compare = compare_with_original(third_third_lsm_means_transformed, pseudo_third_third_lsm_means)"
   ],
   "id": "b3e33debaa6ef49c"
  },
  {
   "metadata": {
    "ExecuteTime": {
     "end_time": "2025-05-15T07:43:10.191256Z",
     "start_time": "2025-05-15T07:43:10.183044Z"
    }
   },
   "cell_type": "code",
   "outputs": [],
   "execution_count": 53,
   "source": [
    "proba = pd.read_csv('../results/lsm_results_adapted.csv')\n",
    "proba_mean = round(proba.mean(), 2)\n",
    "proba_means = pd.DataFrame(proba_mean).reset_index()\n",
    "proba_means.columns = ['Feature', 'Real_Mean']\n",
    "proba_means_transformed = pd.DataFrame({\n",
    "    row['Feature']: [row['Real_Mean']]\n",
    "    for _, row in proba_means.iterrows()\n",
    "})\n",
    "proba_means_transformed.rename(columns={\"pair_no\": \"sample_no\"}, inplace=True)"
   ],
   "id": "20461f74a3ea9d3d"
  },
  {
   "metadata": {
    "ExecuteTime": {
     "end_time": "2025-05-15T07:44:24.499755Z",
     "start_time": "2025-05-15T07:44:24.334659Z"
    }
   },
   "cell_type": "code",
   "source": [
    "whole_corpus_lsm_adapted_compare = compare_with_original(whole_data_lsm_means_adapted_transformed, pseudo_whole_corpus_lsm_adapted_means)\n",
    "baseline_lsm_adapted_compare = compare_with_original(baseline_lsm_means_adapted_transformed, pseudo_baseline_lsm_adapted_means)\n",
    "unimodal_lsm_adapted_compare = compare_with_original(unimodal_lsm_means_adapted_transformed, pseudo_unimodal_lsm_adapted_means)\n",
    "unfamiliar_lsm_adapted_compare = compare_with_original(unfamiliar_lsm_means_adapted_transformed, pseudo_unfamiliar_lsm_adapted_means)\n",
    "first_third_lsm_apated_compare = compare_with_original(first_third_lsm_means_adapted_transformed, pseudo_first_third_lsm_adapted_means)\n",
    "second_third_lsm_adapted_compare = compare_with_original(second_third_lsm_means_adapted_transformed, pseudo_second_third_lsm_adapted_means)\n",
    "third_third_lsm_adapted_compare = compare_with_original(third_third_lsm_means_adapted_transformed, pseudo_third_third_lsm_adapted_means)\n"
   ],
   "id": "6e960f94609a1f7d",
   "outputs": [],
   "execution_count": 56
  },
  {
   "metadata": {
    "ExecuteTime": {
     "end_time": "2025-05-15T07:20:33.337498Z",
     "start_time": "2025-05-15T07:20:33.328091Z"
    }
   },
   "cell_type": "code",
   "source": [
    "whole_corpus_lsm_compare.to_csv(\"../results/whole_corpus_lsm_compare.csv\", index=False)\n",
    "baseline_lsm_compare.to_csv(\"../results/baseline_lsm_compare.csv\", index=False)\n",
    "unimodal_lsm_compare.to_csv(\"../results/unimodal_lsm_compare.csv\", index=False)\n",
    "unfamiliar_lsm_compare.to_csv(\"../results/unfamiliar_lsm_compare.csv\", index=False)\n",
    "first_third_lsm_compare.to_csv(\"../results/first_third_lsm_compare.csv\", index=False)\n",
    "second_third_lsm_compare.to_csv(\"../results/second_third_lsm_compare.csv\", index=False)\n",
    "third_third_lsm_compare.to_csv(\"../results/third_third_lsm_compare.csv\", index=False)\n",
    "\n"
   ],
   "id": "67ac9ff430c8b66d",
   "outputs": [],
   "execution_count": 40
  },
  {
   "metadata": {
    "ExecuteTime": {
     "end_time": "2025-05-14T18:58:05.306840Z",
     "start_time": "2025-05-14T18:58:05.297495Z"
    }
   },
   "cell_type": "code",
   "source": [
    "whole_corpus_lsm_adapted_compare.to_csv(\"../results/whole_corpus_lsm_adapted_compare.csv\", index=False)\n",
    "baseline_lsm_adapted_compare.to_csv(\"../results/baseline_lsm_adapted_compare.csv\", index=False)\n",
    "unimodal_lsm_adapted_compare.to_csv(\"../results/unimodal_lsm_adapted_compare.csv\", index=False)\n",
    "unfamiliar_lsm_adapted_compare.to_csv(\"../results/unfamiliar_lsm_adapted_compare.csv\", index=False)\n",
    "first_third_lsm_apated_compare.to_csv(\"../results/first_third_lsm_apated_compare.csv\", index=False)\n",
    "second_third_lsm_adapted_compare.to_csv(\"../results/second_third_lsm_adapted_compare.csv\", index=False)\n",
    "third_third_lsm_adapted_compare.to_csv(\"../results/third_third_lsm_adapted_compare.csv\", index=False)"
   ],
   "id": "12431553ba2fd737",
   "outputs": [],
   "execution_count": 159
  },
  {
   "metadata": {
    "ExecuteTime": {
     "end_time": "2025-05-14T13:15:27.681292Z",
     "start_time": "2025-05-14T13:15:27.671772Z"
    }
   },
   "cell_type": "code",
   "source": [
    "whole_compare = pd.read_csv(\"../results/whole_corpus_lsm_compare.csv\")\n",
    "whole_pseudo_mean = pd.read_csv(\"../results/mean_of_means_whole_corpus.csv\")\n",
    "LSM_whole = pd.merge(whole_compare, whole_data_lsm_means, on='Feature', how='left')\n",
    "LSM_whole_compare = pd.merge(LSM_whole, whole_pseudo_mean, on='Feature', how='left')\n",
    "LSM_whole_compare.to_csv(\"../results/LSM_whole_compare.csv\", index=False)"
   ],
   "id": "77fbf9967fba43ef",
   "outputs": [],
   "execution_count": 139
  },
  {
   "metadata": {
    "ExecuteTime": {
     "end_time": "2025-05-14T13:15:52.796004Z",
     "start_time": "2025-05-14T13:15:52.784988Z"
    }
   },
   "cell_type": "code",
   "source": [
    "baseline_compare = pd.read_csv(\"../results/baseline_lsm_compare.csv\")\n",
    "baseline_pseudo_mean = pd.read_csv(\"../results/mean_of_means_baseline.csv\")\n",
    "LSM_baseline = pd.merge(baseline_compare, baseline_lsm_means, on='Feature', how='left')\n",
    "LSM_baseline_compare = pd.merge(LSM_baseline, baseline_pseudo_mean, on='Feature', how='left')\n",
    "LSM_baseline_compare.to_csv(\"../results/LSM_baseline_compare.csv\", index=False)\n"
   ],
   "id": "ccca38d527e220df",
   "outputs": [],
   "execution_count": 140
  },
  {
   "metadata": {
    "ExecuteTime": {
     "end_time": "2025-05-14T13:16:39.328163Z",
     "start_time": "2025-05-14T13:16:39.316314Z"
    }
   },
   "cell_type": "code",
   "source": [
    "unimodal_compare = pd.read_csv(\"../results/unimodal_lsm_compare.csv\")\n",
    "unimodal_pseudo_mean = pd.read_csv(\"../results/mean_of_means_unimodal.csv\")\n",
    "LSM_unimodal = pd.merge(unimodal_compare, unimodal_lsm_means, on='Feature', how='left')\n",
    "LSM_unimodal_compare = pd.merge(LSM_unimodal, unimodal_pseudo_mean, on='Feature', how='left')\n",
    "LSM_unimodal_compare.to_csv(\"../results/LSM_unimodal_compare.csv\", index=False)"
   ],
   "id": "b4f4aa05070a9951",
   "outputs": [],
   "execution_count": 141
  },
  {
   "metadata": {
    "ExecuteTime": {
     "end_time": "2025-05-14T13:16:59.986653Z",
     "start_time": "2025-05-14T13:16:59.972380Z"
    }
   },
   "cell_type": "code",
   "source": [
    "unfamiliar_compare = pd.read_csv(\"../results/unfamiliar_lsm_compare.csv\")\n",
    "unfamiliar_pseudo_mean = pd.read_csv(\"../results/mean_of_means_unfamiliar.csv\")\n",
    "LSM_unfamiliar = pd.merge(unfamiliar_compare, unfamiliar_lsm_means, on='Feature', how='left')\n",
    "LSM_unfamiliar_compare = pd.merge(LSM_unfamiliar, unfamiliar_pseudo_mean, on='Feature', how='left')\n",
    "LSM_unfamiliar_compare.to_csv(\"../results/LSM_unfamiliar_compare.csv\", index=False)\n"
   ],
   "id": "f85021cc916cb95b",
   "outputs": [],
   "execution_count": 142
  },
  {
   "metadata": {
    "ExecuteTime": {
     "end_time": "2025-05-14T13:17:41.400363Z",
     "start_time": "2025-05-14T13:17:41.384376Z"
    }
   },
   "cell_type": "code",
   "source": [
    "first_third_compare = pd.read_csv(\"../results/first_third_lsm_compare.csv\")\n",
    "first_third_pseudo_mean = pd.read_csv(\"../results/mean_of_means_first_third.csv\")\n",
    "LSM_first_third = pd.merge(first_third_compare, first_third_lsm_means, on='Feature', how='left')\n",
    "LSM_first_third_compare = pd.merge(LSM_first_third, first_third_pseudo_mean, on='Feature', how='left')\n",
    "LSM_first_third_compare.to_csv(\"../results/LSM_first_third_compare.csv\", index=False)"
   ],
   "id": "5ff8250f62ae0d5e",
   "outputs": [],
   "execution_count": 143
  },
  {
   "metadata": {
    "ExecuteTime": {
     "end_time": "2025-05-14T18:34:59.830576Z",
     "start_time": "2025-05-14T18:34:59.808896Z"
    }
   },
   "cell_type": "code",
   "source": [
    "second_third_compare = pd.read_csv(\"../results/second_third_lsm_compare.csv\")\n",
    "second_third_pseudo_mean = pd.read_csv(\"../results/mean_of_means_second_third.csv\")\n",
    "LSM_second_third = pd.merge(second_third_compare, second_third_lsm_means, on='Feature', how='left')\n",
    "LSM_second_third_compare = pd.merge(LSM_second_third, second_third_pseudo_mean, on='Feature', how='left')\n",
    "LSM_second_third_compare.to_csv(\"../results/LSM_second_third_compare.csv\", index=False)\n"
   ],
   "id": "365ae9e8149e9859",
   "outputs": [],
   "execution_count": 153
  },
  {
   "metadata": {
    "ExecuteTime": {
     "end_time": "2025-05-14T13:18:10.492989Z",
     "start_time": "2025-05-14T13:18:10.484481Z"
    }
   },
   "cell_type": "code",
   "source": [
    "third_third_compare = pd.read_csv(\"../results/third_third_lsm_compare.csv\")\n",
    "third_third_pseudo_mean = pd.read_csv(\"../results/mean_of_means_third_third.csv\")\n",
    "LSM_third_third = pd.merge(third_third_compare, third_third_lsm_means, on='Feature', how='left')\n",
    "LSM_third_third_compare = pd.merge(LSM_third_third, third_third_pseudo_mean, on='Feature', how='left')\n",
    "LSM_third_third_compare.to_csv(\"../results/LSM_third_third_compare.csv\", index=False)"
   ],
   "id": "7de778c956d4946c",
   "outputs": [],
   "execution_count": 144
  },
  {
   "metadata": {
    "ExecuteTime": {
     "end_time": "2025-05-14T18:58:21.189912Z",
     "start_time": "2025-05-14T18:58:21.179251Z"
    }
   },
   "cell_type": "code",
   "source": [
    "whole_compare_adapted = pd.read_csv(\"../results/whole_corpus_lsm_adapted_compare.csv\")\n",
    "whole_pseudo_mean_adapted = pd.read_csv(\"../results/mean_of_means_whole_corpus_adapted.csv\")\n",
    "LSM_whole_adapted = pd.merge(whole_compare_adapted, whole_data_lsm_means_adapted, on='Feature', how='left')\n",
    "LSM_whole_adapted_compare = pd.merge(LSM_whole_adapted, whole_pseudo_mean_adapted, on='Feature', how='left')\n",
    "LSM_whole_adapted_compare.to_csv(\"../results/LSM_whole_adapted_compare.csv\", index=False)"
   ],
   "id": "3db0a47acf34c053",
   "outputs": [],
   "execution_count": 160
  },
  {
   "metadata": {
    "ExecuteTime": {
     "end_time": "2025-05-14T18:58:22.384979Z",
     "start_time": "2025-05-14T18:58:22.375903Z"
    }
   },
   "cell_type": "code",
   "source": [
    "baseline_compare_adapted = pd.read_csv(\"../results/baseline_lsm_adapted_compare.csv\")\n",
    "baseline_pseudo_mean_adapted = pd.read_csv(\"../results/mean_of_means_baseline_adapted.csv\")\n",
    "LSM_baseline_adapted = pd.merge(baseline_compare_adapted, baseline_lsm_means_adapted, on='Feature', how='left')\n",
    "LSM_baseline_adapted_compare = pd.merge(LSM_baseline_adapted, baseline_pseudo_mean_adapted, on='Feature', how='left')\n",
    "LSM_baseline_adapted_compare.to_csv(\"../results/LSM_baseline_adapted_compare.csv\", index=False)"
   ],
   "id": "ee70dfa5c0d6f0cc",
   "outputs": [],
   "execution_count": 161
  },
  {
   "metadata": {
    "ExecuteTime": {
     "end_time": "2025-05-14T18:58:23.319189Z",
     "start_time": "2025-05-14T18:58:23.309548Z"
    }
   },
   "cell_type": "code",
   "source": [
    "unimodal_compare_adapted = pd.read_csv(\"../results/unimodal_lsm_adapted_compare.csv\")\n",
    "unimodal_pseudo_mean_adapted = pd.read_csv(\"../results/mean_of_means_unimodal_adapted.csv\")\n",
    "LSM_unimodal_adapted = pd.merge(unimodal_compare_adapted, unimodal_lsm_means_adapted, on='Feature', how='left')\n",
    "LSM_unimodal_adapted_compare = pd.merge(LSM_unimodal_adapted, unimodal_pseudo_mean_adapted, on='Feature', how='left')\n",
    "LSM_unimodal_adapted_compare.to_csv(\"../results/LSM_unimodal_adapted_compare.csv\", index=False)\n"
   ],
   "id": "4107ec414306b0e7",
   "outputs": [],
   "execution_count": 162
  },
  {
   "metadata": {
    "ExecuteTime": {
     "end_time": "2025-05-14T18:58:23.919006Z",
     "start_time": "2025-05-14T18:58:23.905875Z"
    }
   },
   "cell_type": "code",
   "source": [
    "unfamiliar_compare_adapted = pd.read_csv(\"../results/unfamiliar_lsm_adapted_compare.csv\")\n",
    "unfamiliar_pseudo_mean_adapted = pd.read_csv(\"../results/mean_of_means_unfamiliar_adapted.csv\")\n",
    "LSM_unfamiliar_adapted = pd.merge(unfamiliar_compare_adapted, unfamiliar_lsm_means_adapted, on='Feature', how='left')\n",
    "LSM_unfamiliar_adapted_compare = pd.merge(LSM_unfamiliar_adapted, unfamiliar_pseudo_mean_adapted, on='Feature', how='left')\n",
    "LSM_unfamiliar_adapted_compare.to_csv(\"../results/LSM_unfamiliar_adapted_compare.csv\", index=False)"
   ],
   "id": "385e5ff35ba59c4a",
   "outputs": [],
   "execution_count": 163
  },
  {
   "metadata": {
    "ExecuteTime": {
     "end_time": "2025-05-14T18:58:24.550993Z",
     "start_time": "2025-05-14T18:58:24.540194Z"
    }
   },
   "cell_type": "code",
   "source": [
    "first_third_compare_adapted = pd.read_csv(\"../results/first_third_lsm_apated_compare.csv\")\n",
    "first_third_pseudo_mean_adapted = pd.read_csv(\"../results/mean_of_means_first_third_adapted.csv\")\n",
    "LSM_first_third_adapted = pd.merge(first_third_compare_adapted, first_third_lsm_means_adapted, on='Feature', how='left')\n",
    "LSM_first_third_adapted_compare = pd.merge(LSM_first_third_adapted, first_third_pseudo_mean_adapted, on='Feature', how='left')\n",
    "LSM_first_third_adapted_compare.to_csv(\"../results/LSM_first_third_adapted_compare.csv\", index=False)\n"
   ],
   "id": "8991f71850418c95",
   "outputs": [],
   "execution_count": 164
  },
  {
   "metadata": {
    "ExecuteTime": {
     "end_time": "2025-05-14T18:58:25.370158Z",
     "start_time": "2025-05-14T18:58:25.361580Z"
    }
   },
   "cell_type": "code",
   "source": [
    "second_third_compare_adapted = pd.read_csv(\"../results/second_third_lsm_adapted_compare.csv\")\n",
    "second_third_pseudo_mean_adapted = pd.read_csv(\"../results/mean_of_means_second_third_adapted.csv\")\n",
    "LSM_second_third_adapted = pd.merge(second_third_compare_adapted, second_third_lsm_means_adapted, on='Feature', how='left')\n",
    "LSM_second_third_adapted_compare = pd.merge(LSM_second_third_adapted, second_third_pseudo_mean_adapted, on='Feature', how='left')\n",
    "LSM_second_third_adapted_compare.to_csv(\"../results/LSM_second_third_adapted_compare.csv\", index=False)"
   ],
   "id": "17bb68d24435e353",
   "outputs": [],
   "execution_count": 165
  },
  {
   "metadata": {
    "ExecuteTime": {
     "end_time": "2025-05-14T18:58:26.374355Z",
     "start_time": "2025-05-14T18:58:26.363059Z"
    }
   },
   "cell_type": "code",
   "source": [
    "third_third_compare_adapted = pd.read_csv(\"../results/third_third_lsm_adapted_compare.csv\")\n",
    "third_third_pseudo_mean_adapted = pd.read_csv(\"../results/mean_of_means_third_third_adapted.csv\")\n",
    "LSM_third_third_adapted = pd.merge(third_third_compare_adapted, third_third_lsm_means_adapted, on='Feature', how='left')\n",
    "LSM_third_third_adapted_compare = pd.merge(LSM_third_third_adapted, third_third_pseudo_mean_adapted, on='Feature', how='left')\n",
    "LSM_third_third_adapted_compare.to_csv(\"../results/LSM_third_third_adapted_compare.csv\", index=False)\n"
   ],
   "id": "20e788f8b94c6dad",
   "outputs": [],
   "execution_count": 166
  }
 ],
 "metadata": {
  "kernelspec": {
   "display_name": "Python 3",
   "language": "python",
   "name": "python3"
  },
  "language_info": {
   "codemirror_mode": {
    "name": "ipython",
    "version": 2
   },
   "file_extension": ".py",
   "mimetype": "text/x-python",
   "name": "python",
   "nbconvert_exporter": "python",
   "pygments_lexer": "ipython2",
   "version": "2.7.6"
  }
 },
 "nbformat": 4,
 "nbformat_minor": 5
}
