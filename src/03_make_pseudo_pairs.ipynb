{
 "cells": [
  {
   "metadata": {
    "ExecuteTime": {
     "end_time": "2025-04-08T19:18:39.252642Z",
     "start_time": "2025-04-08T19:18:39.245241Z"
    }
   },
   "cell_type": "code",
   "source": [
    "import pandas as pd\n",
    "import numpy as np"
   ],
   "id": "74a7c1e4cfe8ebb9",
   "outputs": [],
   "execution_count": 38
  },
  {
   "metadata": {},
   "cell_type": "markdown",
   "source": "## Load the lists of pseudo pairs and the linguistic analysis results per corpora",
   "id": "553f2f6e9d570719"
  },
  {
   "metadata": {
    "ExecuteTime": {
     "end_time": "2025-04-08T08:53:59.769576Z",
     "start_time": "2025-04-08T08:53:59.763843Z"
    }
   },
   "cell_type": "code",
   "source": [
    "pseudo_pairs_unfam_numpy = np.load(\"../data/pseudo pairs/pseudo_pairs_list_unfam_freeConv.npy\")\n",
    "pseudo_pairs_basline_numpy = np.load (\"../data/pseudo pairs/pseudo_pairs_list_fam_freeConv.npy\")\n",
    "pseudo_pairs_unimodal_numpy = np.load(\"../data/pseudo pairs/pseudo_pairs_list_uni_freeConv.npy\")"
   ],
   "id": "57e8b72a8bf68d3f",
   "outputs": [],
   "execution_count": 20
  },
  {
   "metadata": {
    "ExecuteTime": {
     "end_time": "2025-04-08T19:20:22.596540Z",
     "start_time": "2025-04-08T19:20:22.562354Z"
    }
   },
   "cell_type": "code",
   "source": [
    "baseline_df = pd.read_csv(\"../results/baseline_linguistic_analysis_248.csv\")\n",
    "unimodal_df = pd.read_csv(\"../results/unimodal_linguistic_analysis_248.csv\")\n",
    "unfamiliar_df = pd.read_csv(\"../results/unfamiliar_linguistic_analysis_248.csv\")\n",
    "whole_df = pd.read_csv(\"../results/linguistic_analysis_condition_mordor_gondor_248.csv\")\n",
    "first_third = pd.read_csv(\"../results/linguistic_analysis_condition_mordor_gondor_first_third_248.csv\")\n",
    "second_third = pd.read_csv(\"../results/linguistic_analysis_condition_mordor_gondor_second_third_248.csv\")\n",
    "third_third = pd.read_csv(\"../results/linguistic_analysis_condition_mordor_gondor_third_third_248.csv\")"
   ],
   "id": "97a48fbd31f770f7",
   "outputs": [],
   "execution_count": 40
  },
  {
   "metadata": {},
   "cell_type": "markdown",
   "source": "## Creates pseudo pairs with the linguistic analysis results",
   "id": "79c5c0661f362b48"
  },
  {
   "metadata": {
    "ExecuteTime": {
     "end_time": "2025-04-08T11:35:56.007230Z",
     "start_time": "2025-04-08T11:35:56.000130Z"
    }
   },
   "cell_type": "code",
   "source": [
    "def MakePseudoPairs(df):\n",
    "    mordor_df = df[df[\"LabName\"] == \"Mordor\"].reset_index(drop=True)\n",
    "    gondor_df = df[df[\"LabName\"] == \"Gondor\"].reset_index(drop=True)\n",
    "    mordor_df[\"key\"] = 1\n",
    "    gondor_df[\"key\"] = 1\n",
    "    cross_joined = pd.merge(mordor_df, gondor_df, on=\"key\").drop(\"key\", axis=1)\n",
    "    filtered = cross_joined[cross_joined[\"PairNo_x\"] != cross_joined[\"PairNo_y\"]]\n",
    "    columns_to_compare = [col for col in df.columns if col not in [\"PairNo\", \"LabName\"]]\n",
    "    mordor_columns = [f\"{col}_mordor\" for col in columns_to_compare]\n",
    "    gondor_columns = [f\"{col}_gondor\" for col in columns_to_compare]\n",
    "\n",
    "    result = filtered[[\"PairNo_x\", \"PairNo_y\"] + \n",
    "                      [f\"{col}_x\" for col in columns_to_compare] + \n",
    "                      [f\"{col}_y\" for col in columns_to_compare]]\n",
    "\n",
    "    result.columns = [\"PairNo_mordor\", \"PairNo_gondor\"] + mordor_columns + gondor_columns\n",
    "\n",
    "    return result"
   ],
   "id": "82e5ddcc75202e66",
   "outputs": [],
   "execution_count": 34
  },
  {
   "metadata": {
    "ExecuteTime": {
     "end_time": "2025-04-08T11:36:11.058027Z",
     "start_time": "2025-04-08T11:36:11.016655Z"
    }
   },
   "cell_type": "code",
   "source": [
    "transformed_baseline_df = MakePseudoPairs(baseline_df)\n",
    "transformed_unimodal_df = MakePseudoPairs(unimodal_df)\n",
    "transformed_unfamiliar_df = MakePseudoPairs(unfamiliar_df)\n",
    "transformed_whole_df = MakePseudoPairs(whole_df)"
   ],
   "id": "3f243663a955a027",
   "outputs": [],
   "execution_count": 35
  },
  {
   "metadata": {
    "ExecuteTime": {
     "end_time": "2025-04-08T19:20:51.885108Z",
     "start_time": "2025-04-08T19:20:51.824928Z"
    }
   },
   "cell_type": "code",
   "source": [
    "transformed_first_third_df = MakePseudoPairs(first_third)\n",
    "transformed_second_third_df = MakePseudoPairs(second_third)\n",
    "transformed_third_third_df = MakePseudoPairs(third_third)"
   ],
   "id": "26d1dcc6517980a6",
   "outputs": [],
   "execution_count": 41
  },
  {
   "metadata": {},
   "cell_type": "markdown",
   "source": "## Save the pseudo dataframes to CSV files",
   "id": "b8f70bfbacfa9ab0"
  },
  {
   "metadata": {
    "ExecuteTime": {
     "end_time": "2025-04-08T11:37:09.312340Z",
     "start_time": "2025-04-08T11:37:08.390735Z"
    }
   },
   "cell_type": "code",
   "source": [
    "transformed_baseline_df.to_csv(\"../results/pseudo_pairs_baseline_linguistic_analysis.csv\", index=False)\n",
    "transformed_unimodal_df.to_csv(\"../results/pseudo_pairs_unimodal_linguistic_analysis.csv\", index=False)\n",
    "transformed_unfamiliar_df.to_csv(\"../results/pseudo_pairs_unfamiliar_linguistic_analysis.csv\", index=False)"
   ],
   "id": "a54b07c350af8dce",
   "outputs": [],
   "execution_count": 36
  },
  {
   "metadata": {
    "ExecuteTime": {
     "end_time": "2025-04-08T19:21:31.200457Z",
     "start_time": "2025-04-08T19:21:25.388489Z"
    }
   },
   "cell_type": "code",
   "source": [
    "transformed_whole_df.to_csv(\"../results/pseudo_pairs_whole_corpus_linguistic_analysis.csv\", index=False)\n",
    "transformed_first_third_df.to_csv(\"../results/pseudo_pairs_first_third_linguistic_analysis.csv\", index=False)\n",
    "transformed_second_third_df.to_csv(\"../results/pseudo_pairs_second_third_linguistic_analysis.csv\", index=False)\n",
    "transformed_third_third_df.to_csv(\"../results/pseudo_pairs_third_third_linguistic_analysis.csv\", index=False)"
   ],
   "id": "2a21a88031e04ee7",
   "outputs": [],
   "execution_count": 42
  }
 ],
 "metadata": {
  "kernelspec": {
   "display_name": "Python 3",
   "language": "python",
   "name": "python3"
  },
  "language_info": {
   "codemirror_mode": {
    "name": "ipython",
    "version": 2
   },
   "file_extension": ".py",
   "mimetype": "text/x-python",
   "name": "python",
   "nbconvert_exporter": "python",
   "pygments_lexer": "ipython2",
   "version": "2.7.6"
  }
 },
 "nbformat": 4,
 "nbformat_minor": 5
}
