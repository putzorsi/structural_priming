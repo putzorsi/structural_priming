{
 "cells": [
  {
   "cell_type": "code",
   "id": "initial_id",
   "metadata": {
    "collapsed": true,
    "ExecuteTime": {
     "end_time": "2025-05-13T17:34:17.660685Z",
     "start_time": "2025-05-13T17:34:16.661685Z"
    }
   },
   "source": [
    "import pickle\n",
    "import pandas as pd\n",
    "from scipy.stats import pearsonr\n",
    "from scipy.stats import spearmanr\n",
    "import numpy as np\n",
    "from sklearn.linear_model import LinearRegression\n",
    "from sklearn.metrics import r2_score\n",
    "import scipy.stats as stats"
   ],
   "outputs": [],
   "execution_count": 7
  },
  {
   "metadata": {
    "ExecuteTime": {
     "end_time": "2025-05-13T17:58:11.871988Z",
     "start_time": "2025-05-13T17:58:11.541935Z"
    }
   },
   "cell_type": "code",
   "source": [
    "whole_data_df = pd.read_csv('../results/linguistic_analysis_condition_mordor_gondor_124.csv')\n",
    "baseline_df = pd.read_csv('../results/baseline_linguistic_analysis_124.csv')\n",
    "unimodal_df = pd.read_csv('../results/unimodal_linguistic_analysis_124.csv')\n",
    "unfamiliar_df = pd.read_csv('../results/unfamiliar_linguistic_analysis_124.csv')\n",
    "\n",
    "pseudo_whole_data_df = pd.read_csv('../results/pseudo_pairs_whole_corpus_linguistic_analysis.csv')\n",
    "pseudo_baseline_df = pd.read_csv('../results/pseudo_pairs_baseline_linguistic_analysis.csv')\n",
    "pseudo_unimodal_df = pd.read_csv('../results/pseudo_pairs_unimodal_linguistic_analysis.csv')\n",
    "pseudo_unfamiliar_df = pd.read_csv('../results/pseudo_pairs_unfamiliar_linguistic_analysis.csv')\n",
    "\n",
    "first_third_df = pd.read_csv('../results/linguistic_analysis_condition_mordor_gondor_first_third_124.csv')\n",
    "second_third_df = pd.read_csv('../results/linguistic_analysis_condition_mordor_gondor_second_third_124.csv')\n",
    "third_third_df = pd.read_csv('../results/linguistic_analysis_condition_mordor_gondor_third_third_124.csv')"
   ],
   "id": "e4cca4ff87e27e0",
   "outputs": [],
   "execution_count": 16
  },
  {
   "metadata": {
    "ExecuteTime": {
     "end_time": "2025-05-12T12:53:20.402554Z",
     "start_time": "2025-05-12T12:53:19.729636Z"
    }
   },
   "cell_type": "code",
   "source": [
    "pseudo_first_third_df = pd.read_csv('../results/pseudo_pairs_first_third_linguistic_analysis.csv')\n",
    "pseudo_second_third_df = pd.read_csv('../results/pseudo_pairs_second_third_linguistic_analysis.csv')\n",
    "pseudo_third_third_df = pd.read_csv('../results/pseudo_pairs_third_third_linguistic_analysis.csv')"
   ],
   "id": "869e4669b47471b5",
   "outputs": [],
   "execution_count": 17
  },
  {
   "metadata": {},
   "cell_type": "markdown",
   "source": "## Calculate correlation",
   "id": "edb78af235dfbbb7"
  },
  {
   "metadata": {
    "ExecuteTime": {
     "end_time": "2025-05-12T12:59:54.658217Z",
     "start_time": "2025-05-12T12:59:54.646074Z"
    }
   },
   "cell_type": "code",
   "source": [
    "def Correlations(df_name):\n",
    "    columns = [\n",
    "        \"lexical_diversity\", \"speech_ratio\", \"word_avg\", \"hes\", \"laugh\", \"question\", \"hum\",\n",
    "        \"s_first_person\", \"s_second_person\", \"s_third_person\", \"p_first_person\", \"p_second_person\",\n",
    "        \"p_third_person\", \"present\", \"past\", \"future\", \"cond\", \"verb\", \"noun\", \"adj\", \"adv\", \"num\",\n",
    "        \"article\", \"preverb\", \"postverb\", \"pronoun\", \"conjunction\", \"interjection\", \"det\", \"funct_words\",\n",
    "        \"negation\", \"happiness\", \"sadness\", \"anger\", \"fear\", \"disgust\", \"no_emotion\", \"positive\",\n",
    "        \"negative\", \"neutral\"]\n",
    "    results = []\n",
    "    for col in columns:\n",
    "        corr_pearson, p_value_pearson = pearsonr(df_name[f\"{col}_mordor\"], df_name[f\"{col}_gondor\"])\n",
    "        corr_spearman, p_value_spearman = spearmanr(df_name[f\"{col}_mordor\"], df_name[f\"{col}_gondor\"])\n",
    "        results.append({\n",
    "            \"Feature\": f\"{col}\",\n",
    "            #\"Correlation_spearman\": corr_spearman,\n",
    "            \"Correlation_pearson\": round(corr_pearson, 2),\n",
    "            \"P-Value\": round(p_value_pearson, 2),\n",
    "            \"P-Value_<_0.005\": p_value_pearson < 0.005\n",
    "        })\n",
    "\n",
    "    df_correlations = pd.DataFrame(results)\n",
    "    # df_correlations_filtered = df_correlations[df_correlations[\"P-Value < 0.005\"] == True]\n",
    "    return df_correlations"
   ],
   "id": "6127c9e511a77d20",
   "outputs": [],
   "execution_count": 26
  },
  {
   "metadata": {
    "ExecuteTime": {
     "end_time": "2025-05-12T12:59:59.881251Z",
     "start_time": "2025-05-12T12:59:58.992513Z"
    }
   },
   "cell_type": "code",
   "source": [
    "whole_data_correlations = Correlations(whole_data_df)\n",
    "baseline_correlations = Correlations(baseline_df)\n",
    "unimodal_correlations = Correlations(unimodal_df)\n",
    "unfamiliar_correlations = Correlations(unfamiliar_df)\n",
    "pseudo_whole_data_correlations = Correlations(pseudo_whole_data_df)\n",
    "pseudo_baseline_correlations = Correlations(pseudo_baseline_df)\n",
    "pseudo_unimodal_correlations = Correlations(pseudo_unimodal_df)\n",
    "pseudo_unfamiliar_correlations = Correlations(pseudo_unfamiliar_df)\n"
   ],
   "id": "cc920221923a87a",
   "outputs": [],
   "execution_count": 27
  },
  {
   "metadata": {
    "ExecuteTime": {
     "end_time": "2025-05-12T13:00:08.583328Z",
     "start_time": "2025-05-12T13:00:08.287140Z"
    }
   },
   "cell_type": "code",
   "source": [
    "first_third_correlations = Correlations(first_third_df)\n",
    "second_third_correlations = Correlations(second_third_df)\n",
    "third_third_correlations = Correlations(third_third_df)"
   ],
   "id": "627fac42644090c9",
   "outputs": [],
   "execution_count": 28
  },
  {
   "metadata": {
    "ExecuteTime": {
     "end_time": "2025-05-12T13:00:12.642774Z",
     "start_time": "2025-05-12T13:00:12.105691Z"
    }
   },
   "cell_type": "code",
   "source": [
    "pseudo_first_third_correlations = Correlations(pseudo_first_third_df)\n",
    "pseudo_second_third_correlations = Correlations(pseudo_second_third_df)\n",
    "pseudo_third_third_correlations = Correlations(pseudo_third_third_df)"
   ],
   "id": "219d26dbf58856cd",
   "outputs": [],
   "execution_count": 29
  },
  {
   "metadata": {
    "ExecuteTime": {
     "end_time": "2025-05-12T13:00:58.126109Z",
     "start_time": "2025-05-12T13:00:58.107538Z"
    }
   },
   "cell_type": "code",
   "source": [
    "whole_data_correlations.to_csv(\"../results/correlations_whole_corpus.csv\", index=False)\n",
    "baseline_correlations.to_csv(\"../results/correlations_baseline.csv\", index = False)\n",
    "unimodal_correlations.to_csv(\"../results/correlations_unimodal.csv\", index = False)\n",
    "unfamiliar_correlations.to_csv(\"../results/correlations_unfamiliar.csv\", index = False)\n",
    "pseudo_whole_data_correlations.to_csv(\"../results/correlations_pseudo_whole_corpus.csv\", index = False)\n",
    "pseudo_baseline_correlations.to_csv(\"../results/correlations_pseudo_baseline.csv\", index = False)\n",
    "pseudo_unimodal_correlations.to_csv(\"../results/correlations_pseudo_unimodal.csv\", index = False)\n",
    "pseudo_unfamiliar_correlations.to_csv(\"../results/correlations_pseudo_unfamiliar.csv\", index = False)"
   ],
   "id": "3c7a2b9358c6e209",
   "outputs": [],
   "execution_count": 31
  },
  {
   "metadata": {
    "ExecuteTime": {
     "end_time": "2025-05-12T13:00:59.559261Z",
     "start_time": "2025-05-12T13:00:59.539495Z"
    }
   },
   "cell_type": "code",
   "source": [
    "first_third_correlations.to_csv(\"../results/correlations_first_third.csv\", index = False)\n",
    "second_third_correlations.to_csv(\"../results/correlations_second_third.csv\", index = False)\n",
    "third_third_correlations.to_csv(\"../results/correlations_third_third.csv\", index = False)"
   ],
   "id": "6942bee9a8ecd95c",
   "outputs": [],
   "execution_count": 32
  },
  {
   "metadata": {
    "ExecuteTime": {
     "end_time": "2025-05-12T13:01:00.738169Z",
     "start_time": "2025-05-12T13:01:00.724540Z"
    }
   },
   "cell_type": "code",
   "source": [
    "pseudo_first_third_correlations.to_csv(\"../results/correlations_pseudo_first_third.csv\", index = False)\n",
    "pseudo_second_third_correlations.to_csv(\"../results/correlations_pseudo_second_third.csv\", index = False)\n",
    "pseudo_third_third_correlations.to_csv(\"../results/correlations_pseudo_third_third.csv\", index = False)"
   ],
   "id": "d9191f585392ef81",
   "outputs": [],
   "execution_count": 33
  },
  {
   "metadata": {
    "ExecuteTime": {
     "end_time": "2025-05-12T13:01:14.217895Z",
     "start_time": "2025-05-12T13:01:14.166910Z"
    }
   },
   "cell_type": "code",
   "source": [
    "new_dataframe = pd.merge(whole_data_correlations, baseline_correlations, on=\"Feature\", suffixes=('_whole', '_baseline'))\n",
    "new_dataframe = pd.merge(new_dataframe, unimodal_correlations, on=\"Feature\", suffixes=('', '_unimod'))\n",
    "new_dataframe = pd.merge(new_dataframe, unfamiliar_correlations, on=\"Feature\", suffixes=('', '_unfamiliar'))\n",
    "new_dataframe = pd.merge(new_dataframe, first_third_correlations, on=\"Feature\", suffixes=('', '_first_third'))\n",
    "new_dataframe = pd.merge(new_dataframe, second_third_correlations, on=\"Feature\", suffixes=('', '_second_third'))\n",
    "new_dataframe = pd.merge(new_dataframe, third_third_correlations, on=\"Feature\", suffixes=('', '_third_third'))"
   ],
   "id": "6092d15df08f1c70",
   "outputs": [],
   "execution_count": 34
  },
  {
   "metadata": {
    "ExecuteTime": {
     "end_time": "2025-05-12T13:01:17.957190Z",
     "start_time": "2025-05-12T13:01:17.946140Z"
    }
   },
   "cell_type": "code",
   "source": "new_dataframe.to_csv(\"../results/correlation_summary.csv\", index=False)",
   "id": "f2a0ff7b70037f05",
   "outputs": [],
   "execution_count": 35
  },
  {
   "metadata": {
    "ExecuteTime": {
     "end_time": "2025-05-12T17:49:10.559599Z",
     "start_time": "2025-05-12T17:49:10.555362Z"
    }
   },
   "cell_type": "code",
   "source": [
    "correlation_summary = new_dataframe.copy()\n",
    "filtered_columns = [col for col in correlation_summary.columns if \"P-Value_<_0.005\" in col]\n",
    "filtered_columns.insert(0, \"Feature\")  # Keep the Feature column\n",
    "correlation_summary_filtered = correlation_summary[filtered_columns]\n"
   ],
   "id": "de32125d702ef126",
   "outputs": [],
   "execution_count": 47
  },
  {
   "metadata": {
    "ExecuteTime": {
     "end_time": "2025-05-12T17:53:04.318603Z",
     "start_time": "2025-05-12T17:53:04.315167Z"
    }
   },
   "cell_type": "code",
   "source": "correlation_summary_filtered.rename(columns={'P-Value_<_0.005_whole': 'whole_data', 'P-Value_<_0.005_baseline': 'baseline', 'P-Value_<_0.005': 'unimodal', 'P-Value_<_0.005_unfamiliar': 'unfamiliar', 'P-Value_<_0.005_first_third': 'first_third', 'P-Value_<_0.005_second_third': 'second_third', 'P-Value_<_0.005_third_third': 'third_third'}, inplace=True)",
   "id": "47b390ab6bc210c1",
   "outputs": [
    {
     "name": "stderr",
     "output_type": "stream",
     "text": [
      "/tmp/ipykernel_71275/2767450950.py:1: SettingWithCopyWarning: \n",
      "A value is trying to be set on a copy of a slice from a DataFrame\n",
      "\n",
      "See the caveats in the documentation: https://pandas.pydata.org/pandas-docs/stable/user_guide/indexing.html#returning-a-view-versus-a-copy\n",
      "  correlation_summary_filtered.rename(columns={'P-Value_<_0.005_whole': 'whole_data', 'P-Value_<_0.005_baseline': 'baseline', 'P-Value_<_0.005': 'unimodal', 'P-Value_<_0.005_unfamiliar': 'unfamiliar', 'P-Value_<_0.005_first_third': 'first_third', 'P-Value_<_0.005_second_third': 'second_third', 'P-Value_<_0.005_third_third': 'third_third'}, inplace=True)\n"
     ]
    }
   ],
   "execution_count": 54
  },
  {
   "metadata": {
    "ExecuteTime": {
     "end_time": "2025-05-12T17:53:13.102746Z",
     "start_time": "2025-05-12T17:53:13.086966Z"
    }
   },
   "cell_type": "code",
   "source": "correlation_summary_filtered.to_csv(\"../results/correlation_summary_filtered.csv\", index=False)",
   "id": "5c100ef574ee28b6",
   "outputs": [],
   "execution_count": 56
  },
  {
   "metadata": {},
   "cell_type": "markdown",
   "source": "## Calculate linear regression",
   "id": "a14bcdaf1f169861"
  },
  {
   "metadata": {},
   "cell_type": "markdown",
   "source": "## Linear regression",
   "id": "ed24aee924dc796c"
  },
  {
   "metadata": {
    "ExecuteTime": {
     "end_time": "2025-04-08T20:07:07.961866Z",
     "start_time": "2025-04-08T20:07:07.952411Z"
    }
   },
   "cell_type": "code",
   "source": [
    "import pandas as pd\n",
    "import numpy as np\n",
    "from sklearn.linear_model import LinearRegression\n",
    "from sklearn.metrics import r2_score\n",
    "from scipy import stats\n",
    "\n",
    "def calculate_linear_regression(df_name):\n",
    "    features = [\n",
    "        \"lexical_diversity\", \"speech_ratio\", \"word_avg\", \"hes\", \"laugh\", \"question\", \"hum\",\n",
    "        \"s_first_person\", \"s_second_person\", \"s_third_person\", \"p_first_person\", \"p_second_person\", \n",
    "        \"p_third_person\", \"present\", \"past\", \"future\", \"cond\", \"verb\", \"noun\", \"adj\", \"adv\", \"num\",\n",
    "        \"article\", \"preverb\", \"postverb\", \"pronoun\", \"conjunction\", \"interjection\", \"det\", \n",
    "        \"funct_words\", \"negation\", \"happiness\", \"sadness\", \"anger\", \"fear\", \"disgust\", \n",
    "        \"no_emotion\", \"positive\", \"negative\", \"neutral\"\n",
    "    ]\n",
    "    \n",
    "    results = []\n",
    "    for feature in features:\n",
    "        # Prepare data\n",
    "        X = df_name[f\"{feature}_mordor\"].values.reshape(-1, 1)\n",
    "        y = df_name[f\"{feature}_gondor\"].values\n",
    "        n = len(y)\n",
    "        \n",
    "        # Fit linear regression\n",
    "        model = LinearRegression()\n",
    "        model.fit(X, y)\n",
    "        \n",
    "        # Calculate predictions and R-squared\n",
    "        y_pred = model.predict(X)\n",
    "        r2 = r2_score(y, y_pred)\n",
    "        \n",
    "        # Calculate standard error and t-statistic\n",
    "        residuals = y - y_pred.ravel()\n",
    "        mse = np.sum(residuals**2) / (n - 2)\n",
    "        std_err = np.sqrt(mse / np.sum((X - np.mean(X))**2))\n",
    "        t_stat = model.coef_[0] / std_err\n",
    "        \n",
    "        # Calculate p-value\n",
    "        p_value = 2 * (1 - stats.t.cdf(abs(t_stat), n - 2))\n",
    "        \n",
    "        results.append({\n",
    "            'Feature': feature,\n",
    "            'Coefficient': model.coef_[0],\n",
    "            'Intercept': model.intercept_,\n",
    "            'R_squared': r2,\n",
    "            'Std_error': std_err,\n",
    "            'T_statistic': t_stat,\n",
    "            'P_value': p_value,\n",
    "            'Significant': p_value < 0.003\n",
    "        })\n",
    "    \n",
    "    return pd.DataFrame(results)"
   ],
   "id": "7ca0f5a053387bb3",
   "outputs": [],
   "execution_count": 6
  },
  {
   "metadata": {
    "ExecuteTime": {
     "end_time": "2025-04-08T20:07:09.907323Z",
     "start_time": "2025-04-08T20:07:08.965170Z"
    }
   },
   "cell_type": "code",
   "source": [
    "regression_whole_data = calculate_linear_regression(whole_data_df)\n",
    "regression_pseudo_whole_data = calculate_linear_regression(pseudo_whole_data_df)\n",
    "regression_pseudo_baseline = calculate_linear_regression(pseudo_baseline_df)\n",
    "regression_baseline = calculate_linear_regression(baseline_df)\n",
    "regression_pseudo_unimodal = calculate_linear_regression(pseudo_unimodal_df)\n",
    "regression_unimodal = calculate_linear_regression(unimodal_df)\n",
    "regression_pseudo_unfamiliar = calculate_linear_regression(pseudo_unfamiliar_df)\n",
    "regression_unfamiliar = calculate_linear_regression(unfamiliar_df)\n",
    "regression_first_third = calculate_linear_regression(first_third_df)\n",
    "regression_second_third = calculate_linear_regression(second_third_df)\n",
    "regression_third_third = calculate_linear_regression(third_third_df)\n",
    "regression_pseudo_first_third = calculate_linear_regression(pseudo_first_third_df)\n",
    "regression_pseudo_second_third = calculate_linear_regression(pseudo_second_third_df)\n",
    "regression_pseudo_third_third = calculate_linear_regression(pseudo_third_third_df)"
   ],
   "id": "d8b0462dc3c2e190",
   "outputs": [],
   "execution_count": 7
  },
  {
   "metadata": {
    "ExecuteTime": {
     "end_time": "2025-04-08T20:07:10.951834Z",
     "start_time": "2025-04-08T20:07:10.928577Z"
    }
   },
   "cell_type": "code",
   "source": [
    "regression_whole_data.to_csv(\"../results/whole_data_regression.csv\", index=False)\n",
    "regression_pseudo_whole_data.to_csv(\"../results/pseudo_whole_data_regression.csv\", index=False)\n",
    "regression_baseline.to_csv(\"../results/baseline_regression.csv\", index=False)\n",
    "regression_pseudo_baseline.to_csv(\"../results/pseudo_baseline_regression.csv\", index=False)\n",
    "regression_unimodal.to_csv(\"../results/unimodal_regression.csv\", index=False)\n",
    "regression_pseudo_unimodal.to_csv(\"../results/pseudo_unimodal_regression.csv\", index=False)\n",
    "regression_unfamiliar.to_csv(\"../results/unfamiliar_regression.csv\", index=False)\n",
    "regression_pseudo_unfamiliar.to_csv(\"../results/pseudo_unfamiliar_regression.csv\", index=False)\n",
    "regression_first_third.to_csv(\"../results/first_third_regression.csv\", index=False)\n",
    "regression_second_third.to_csv(\"../results/second_third_regression.csv\", index=False)\n",
    "regression_third_third.to_csv(\"../results/third_third_regression.csv\", index=False)\n",
    "regression_pseudo_first_third.to_csv(\"../results/pseudo_first_third_regression.csv\", index=False)\n",
    "regression_pseudo_second_third.to_csv(\"../results/pseudo_second_third_regression.csv\", index=False)\n",
    "regression_pseudo_third_third.to_csv(\"../results/pseudo_third_third_regression.csv\", index=False)\n",
    "\n"
   ],
   "id": "918ccab6af13648",
   "outputs": [],
   "execution_count": 8
  },
  {
   "metadata": {},
   "cell_type": "markdown",
   "source": "## Calculate LSM",
   "id": "c92b71b1d8984927"
  },
  {
   "metadata": {
    "ExecuteTime": {
     "end_time": "2025-05-13T17:58:23.949125Z",
     "start_time": "2025-05-13T17:58:23.930201Z"
    }
   },
   "cell_type": "code",
   "source": [
    "def lsm_count(df_name):\n",
    "    lsm_results = []\n",
    "    for index, row in df_name.iterrows():\n",
    "        lsm_adverb = 1 - ((abs(row['adv_gondor'] - row['adv_mordor'])) / (row['adv_gondor'] + row['adv_mordor'] + 0.00001))\n",
    "        lsm_article = 1 - ((abs(row['article_gondor'] - row['article_mordor'])) / (row['article_gondor'] + row['article_mordor'] + 0.00001))\n",
    "        lsm_preverb = 1 - ((abs(row['preverb_gondor'] - row['preverb_mordor'])) / (row['preverb_gondor'] + row['preverb_mordor'] + 0.00001))\n",
    "        lsm_postverb = 1 - ((abs(row['postverb_gondor'] - row['postverb_mordor'])) / (row['postverb_gondor'] + row['postverb_mordor'] + 0.00001))\n",
    "        lsm_pronoun = 1 - ((abs(row['pronoun_gondor'] - row['pronoun_mordor'])) / (row['pronoun_gondor'] + row['pronoun_mordor'] + 0.00001))\n",
    "        lsm_conjunction = 1 - ((abs(row['conjunction_gondor'] - row['conjunction_mordor'])) / (row['conjunction_gondor'] + row['conjunction_mordor'] + 0.00001))\n",
    "        lsm_interjection = 1 - ((abs(row['interjection_gondor'] - row['interjection_mordor'])) / (row['interjection_gondor'] + row['interjection_mordor'] + 0.00001))\n",
    "        lsm_det = 1 - ((abs(row['det_gondor'] - row['det_mordor'])) / (row['det_gondor'] + row['det_mordor'] + 0.00001))\n",
    "        lsm_avg = (lsm_adverb + lsm_article + lsm_interjection + lsm_conjunction + lsm_pronoun + lsm_postverb + lsm_preverb + lsm_det)  / 8\n",
    "        pair_no = int(row['PairNo'])\n",
    "        lsm_results.append({\"pair_no\": pair_no, \"lsm_article\": lsm_article, \"lsm_preverb\": lsm_preverb, \"lsm_postverb\": lsm_postverb, \"lsm_pronoun\": lsm_pronoun, \"lsm_conjunction\": lsm_conjunction, \"lsm_interjection\": lsm_interjection, \"lsm_adverb\": lsm_adverb, \"lsm_avg\": lsm_avg})\n",
    "        lsm_results_df = pd.DataFrame(lsm_results)\n",
    "    return lsm_results_df"
   ],
   "id": "127b1ec987176968",
   "outputs": [],
   "execution_count": 17
  },
  {
   "metadata": {
    "ExecuteTime": {
     "end_time": "2025-05-13T17:58:42.501937Z",
     "start_time": "2025-05-13T17:58:42.213067Z"
    }
   },
   "cell_type": "code",
   "source": [
    "whole_data_lsm = lsm_count(whole_data_df)\n",
    "baseline_lsm = lsm_count(baseline_df)\n",
    "unimodal_lsm = lsm_count(unimodal_df)\n",
    "unfamiliar_lsm = lsm_count(unfamiliar_df)\n",
    "first_third_lsm = lsm_count(first_third_df)\n",
    "second_third_lsm = lsm_count(second_third_df)\n",
    "third_third_lsm = lsm_count(third_third_df)"
   ],
   "id": "9bb526ed4fadf275",
   "outputs": [],
   "execution_count": 18
  },
  {
   "metadata": {
    "ExecuteTime": {
     "end_time": "2025-05-13T17:58:52.638103Z",
     "start_time": "2025-05-13T17:58:52.616189Z"
    }
   },
   "cell_type": "code",
   "source": [
    "whole_data_lsm.to_csv(\"../results/whole_data_lsm.csv\", index=False)\n",
    "baseline_lsm.to_csv(\"../results/baseline_lsm.csv\", index=False)\n",
    "unimodal_lsm.to_csv(\"../results/unimodal_lsm.csv\", index=False)\n",
    "unfamiliar_lsm.to_csv(\"../results/unfamiliar_lsm.csv\", index=False)\n",
    "first_third_lsm.to_csv(\"../results/first_third_lsm.csv\", index=False)\n",
    "second_third_lsm.to_csv(\"../results/second_third_lsm.csv\", index=False)\n",
    "third_third_lsm.to_csv(\"../results/third_third_lsm.csv\", index=False)"
   ],
   "id": "da017658cbc9cee9",
   "outputs": [],
   "execution_count": 19
  },
  {
   "metadata": {},
   "cell_type": "markdown",
   "source": "## Calculate the adapted LSM",
   "id": "415c95081f5a34a9"
  },
  {
   "metadata": {
    "ExecuteTime": {
     "end_time": "2025-05-13T17:58:56.893366Z",
     "start_time": "2025-05-13T17:58:56.883098Z"
    }
   },
   "cell_type": "code",
   "source": [
    "def lsm_count_adapted(df_name):\n",
    "    lsm_results_adapted = []\n",
    "    for index, row in df_name.iterrows():\n",
    "        lsm_adverb = 1 - ((abs(row['adv_gondor'] - row['adv_mordor'])) / (row['adv_gondor'] + row['adv_mordor'] + 0.00001))\n",
    "        lsm_article = 1 - ((abs(row['article_gondor'] - row['article_mordor'])) / (row['article_gondor'] + row['article_mordor'] + 0.00001))\n",
    "        lsm_preverb = 1 - ((abs(row['preverb_gondor'] - row['preverb_mordor'])) / (row['preverb_gondor'] + row['preverb_mordor'] + 0.00001))\n",
    "        lsm_postverb = 1 - ((abs(row['postverb_gondor'] - row['postverb_mordor'])) / (row['postverb_gondor'] + row['postverb_mordor'] + 0.00001))\n",
    "        lsm_pronoun = 1 - ((abs(row['pronoun_gondor'] - row['pronoun_mordor'])) / (row['pronoun_gondor'] + row['pronoun_mordor'] + 0.00001))\n",
    "        lsm_conjunction = 1 - ((abs(row['conjunction_gondor'] - row['conjunction_mordor'])) / (row['conjunction_gondor'] + row['conjunction_mordor'] + 0.00001))\n",
    "        lsm_interjection = 1 - ((abs(row['interjection_gondor'] - row['interjection_mordor'])) / (row['interjection_gondor'] + row['interjection_mordor'] + 0.00001))\n",
    "        lsm_det = 1 - ((abs(row['det_gondor'] - row['det_mordor'])) / (row['det_gondor'] + row['det_mordor'] + 0.00001))\n",
    "        lsm_s_first_person = 1 - ((abs(row['s_first_person_gondor'] - row['s_first_person_mordor'])) / (row['s_first_person_gondor'] + row['s_first_person_mordor'] + 0.00001))\n",
    "        lsm_s_second_person = 1 - ((abs(row['s_second_person_gondor'] - row['s_second_person_mordor'])) / (row['s_second_person_gondor'] + row['s_second_person_mordor'] + 0.00001))\n",
    "        lsm_s_third_person = 1 - ((abs(row['s_third_person_gondor'] - row['s_third_person_mordor'])) / (row['s_third_person_gondor'] + row['s_third_person_mordor'] + 0.00001))\n",
    "        lsm_p_first_person = 1 - ((abs(row['p_first_person_gondor'] - row['p_first_person_mordor'])) / (row['p_first_person_gondor'] + row['p_first_person_mordor'] + 0.00001))\n",
    "        lsm_p_second_person = 1 - ((abs(row['p_second_person_gondor'] - row['p_second_person_mordor'])) / (row['p_second_person_gondor'] + row['p_second_person_mordor'] + 0.00001))\n",
    "        lsm_p_third_person = 1 - ((abs(row['p_third_person_gondor'] - row['p_third_person_mordor'])) / (row['p_third_person_gondor'] + row['p_third_person_mordor'] + 0.00001))\n",
    "        lsm_avg = (lsm_adverb + lsm_article + lsm_interjection + lsm_conjunction + lsm_pronoun + lsm_postverb + lsm_preverb + lsm_det + lsm_p_first_person + lsm_p_second_person + lsm_p_third_person + lsm_s_first_person + lsm_s_second_person + lsm_s_third_person) / 14\n",
    "        pair_no = int(row['PairNo'])\n",
    "        lsm_results_adapted.append({\"pair_no\": pair_no, \"lsm_article\": lsm_article, \"lsm_preverb\": lsm_preverb, \"lsm_postverb\": lsm_postverb, \"lsm_pronoun\": lsm_pronoun, \"lsm_conjunction\": lsm_conjunction, \"lsm_interjection\": lsm_interjection, \"lsm_adverb\": lsm_adverb, \"lsm_avg\": lsm_avg, \"lsm_s_first_person\": lsm_s_first_person, \"lsm_s_second_person\": lsm_s_second_person, \"lsm_s_third_person\": lsm_s_third_person, \"lsm_p_first_person\": lsm_p_first_person, \"lsm_p_second_person\": lsm_p_second_person, \"lsm_p_third_person\": lsm_p_third_person})\n",
    "        lsm_results_df_adapted = pd.DataFrame(lsm_results_adapted)\n",
    "    return lsm_results_df_adapted"
   ],
   "id": "2cc513692934e4d1",
   "outputs": [],
   "execution_count": 20
  },
  {
   "metadata": {
    "ExecuteTime": {
     "end_time": "2025-05-13T17:59:07.360751Z",
     "start_time": "2025-05-13T17:59:06.972440Z"
    }
   },
   "cell_type": "code",
   "source": [
    "whole_data_lsm_adapted = lsm_count_adapted(whole_data_df)\n",
    "baseline_lsm_adapted = lsm_count_adapted(baseline_df)\n",
    "unimodal_lsm_adapted = lsm_count_adapted(unimodal_df)\n",
    "unfamiliar_lsm_adapted = lsm_count_adapted(unfamiliar_df)\n",
    "first_third_lsm_adapted = lsm_count_adapted(first_third_df)\n",
    "second_third_lsm_adapted = lsm_count_adapted(second_third_df)\n",
    "third_third_lsm_adapted = lsm_count_adapted(third_third_df)"
   ],
   "id": "234385b3677cb6f3",
   "outputs": [],
   "execution_count": 21
  },
  {
   "metadata": {
    "ExecuteTime": {
     "end_time": "2025-05-13T17:59:21.914295Z",
     "start_time": "2025-05-13T17:59:21.896252Z"
    }
   },
   "cell_type": "code",
   "source": [
    "whole_data_lsm_adapted.to_csv(\"../results/whole_data_lsm_adapted.csv\", index=False)\n",
    "baseline_lsm_adapted.to_csv(\"../results/baseline_lsm_adapted.csv\", index=False)\n",
    "unimodal_lsm_adapted.to_csv(\"../results/unimodal_lsm_adapted.csv\", index=False)\n",
    "unfamiliar_lsm_adapted.to_csv(\"../results/unfamiliar_lsm_adapted.csv\", index=False)\n",
    "first_third_lsm_adapted.to_csv(\"../results/first_third_lsm_adapted.csv\", index=False)\n",
    "second_third_lsm_adapted.to_csv(\"../results/second_third_lsm_adapted.csv\", index=False)\n",
    "third_third_lsm_adapted.to_csv(\"../results/third_third_lsm_adapted.csv\", index=False)"
   ],
   "id": "227200e3c1c01056",
   "outputs": [],
   "execution_count": 22
  },
  {
   "metadata": {
    "ExecuteTime": {
     "end_time": "2025-05-13T18:00:09.624658Z",
     "start_time": "2025-05-13T18:00:09.615701Z"
    }
   },
   "cell_type": "code",
   "source": [
    "# calculate mean of lsm_avg\n",
    "whole_data_mean_lsm = round(whole_data_lsm[\"lsm_avg\"].mean(), 2)\n",
    "baseline_mean_lsm = round(baseline_lsm[\"lsm_avg\"].mean(), 2)\n",
    "unimodal_mean_lsm = round(unimodal_lsm[\"lsm_avg\"].mean(), 2)\n",
    "unfamiliar_mean_lsm = round(unfamiliar_lsm[\"lsm_avg\"].mean(), 2)\n",
    "first_third_mean_lsm = round(first_third_lsm[\"lsm_avg\"].mean(), 2)\n",
    "second_third_mean_lsm = round(second_third_lsm[\"lsm_avg\"].mean(), 2)\n",
    "third_third_mean_lsm = round(third_third_lsm[\"lsm_avg\"].mean(), 2)"
   ],
   "id": "40f607aa934c60a9",
   "outputs": [],
   "execution_count": 23
  },
  {
   "metadata": {
    "ExecuteTime": {
     "end_time": "2025-05-13T18:00:26.236386Z",
     "start_time": "2025-05-13T18:00:26.231104Z"
    }
   },
   "cell_type": "code",
   "source": [
    "mean_lsm_df = pd.DataFrame({\n",
    "    \"condition\": [\"whole_data\", \"baseline\", \"unimodal\", \"unfamiliar\", \"first_third\", \"second_third\", \"third_third\"],\n",
    "    \"mean_lsm\": [whole_data_mean_lsm, baseline_mean_lsm, unimodal_mean_lsm, unfamiliar_mean_lsm, first_third_df, second_third_mean_lsm, third_third_mean_lsm]\n",
    "})\n"
   ],
   "id": "74ab0e0f978359a1",
   "outputs": [],
   "execution_count": 24
  },
  {
   "metadata": {
    "ExecuteTime": {
     "end_time": "2025-05-13T18:00:43.805980Z",
     "start_time": "2025-05-13T18:00:43.786527Z"
    }
   },
   "cell_type": "code",
   "source": "mean_lsm_df.to_csv(\"../results/mean_lsm.csv\", index=False)",
   "id": "3a1fdff17bb95199",
   "outputs": [],
   "execution_count": 25
  },
  {
   "metadata": {
    "ExecuteTime": {
     "end_time": "2025-05-13T18:01:19.728632Z",
     "start_time": "2025-05-13T18:01:19.723804Z"
    }
   },
   "cell_type": "code",
   "source": [
    "whole_data_mean_lsm_adapted = round(whole_data_lsm_adapted[\"lsm_avg\"].mean(), 2)\n",
    "baseline_mean_lsm_adapted = round(baseline_lsm_adapted[\"lsm_avg\"].mean(), 2)\n",
    "unimodal_mean_lsm_adapted = round(unimodal_lsm_adapted[\"lsm_avg\"].mean(), 2)\n",
    "unfamiliar_mean_lsm_adapted = round(unfamiliar_lsm_adapted[\"lsm_avg\"].mean(), 2)\n",
    "first_third_mean_lsm_adapted = round(first_third_lsm_adapted[\"lsm_avg\"].mean(), 2)\n",
    "second_third_mean_lsm_adapted = round(second_third_lsm_adapted[\"lsm_avg\"].mean(), 2)\n",
    "third_third_mean_lsm_adapted = round(third_third_lsm_adapted[\"lsm_avg\"].mean(), 2)"
   ],
   "id": "f143bdae85a85d6",
   "outputs": [],
   "execution_count": 26
  },
  {
   "metadata": {
    "ExecuteTime": {
     "end_time": "2025-05-13T18:01:32.921818Z",
     "start_time": "2025-05-13T18:01:32.912506Z"
    }
   },
   "cell_type": "code",
   "source": [
    "mean_lsm_adapted_df = pd.DataFrame({\n",
    "    \"condition\": [\"whole_data\", \"baseline\", \"unimodal\", \"unfamiliar\", \"first_third\", \"second_third\", \"third_third\"],\n",
    "    \"mean_lsm_adapted\": [whole_data_mean_lsm_adapted, baseline_mean_lsm_adapted, unimodal_mean_lsm_adapted, unfamiliar_mean_lsm_adapted, first_third_mean_lsm_adapted, second_third_mean_lsm_adapted, third_third_mean_lsm_adapted]\n",
    "})"
   ],
   "id": "514198512c3644cf",
   "outputs": [],
   "execution_count": 27
  },
  {
   "metadata": {
    "ExecuteTime": {
     "end_time": "2025-05-13T18:01:37.306260Z",
     "start_time": "2025-05-13T18:01:37.302931Z"
    }
   },
   "cell_type": "code",
   "source": "mean_lsm_adapted_df.to_csv(\"../results/mean_lsm_adapted.csv\", index=False)",
   "id": "dd6eaa58bdecbf0b",
   "outputs": [],
   "execution_count": 28
  }
 ],
 "metadata": {
  "kernelspec": {
   "display_name": "Python 3",
   "language": "python",
   "name": "python3"
  },
  "language_info": {
   "codemirror_mode": {
    "name": "ipython",
    "version": 2
   },
   "file_extension": ".py",
   "mimetype": "text/x-python",
   "name": "python",
   "nbconvert_exporter": "python",
   "pygments_lexer": "ipython2",
   "version": "2.7.6"
  }
 },
 "nbformat": 4,
 "nbformat_minor": 5
}
